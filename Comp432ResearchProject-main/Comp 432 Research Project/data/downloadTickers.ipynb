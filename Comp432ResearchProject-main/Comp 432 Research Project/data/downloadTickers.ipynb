{
 "cells": [
  {
   "cell_type": "code",
   "execution_count": 1,
   "metadata": {},
   "outputs": [
    {
     "name": "stdout",
     "output_type": "stream",
     "text": [
      "[*********************100%***********************]  1 of 1 completed\n",
      "[*********************100%***********************]  1 of 1 completed\n",
      "[*********************100%***********************]  1 of 1 completed\n",
      "[*********************100%***********************]  1 of 1 completed\n"
     ]
    }
   ],
   "source": [
    "import yfinance as yf\n",
    "\n",
    "\n",
    "spy = yf.download('SPY', start='2016-12-12',auto_adjust = True)\n",
    "spy.to_csv ('S&P500.csv', index = True, header=True)\n",
    "\n",
    "apple = yf.download('AAPL', start='2016-12-12',auto_adjust = True)\n",
    "apple.to_csv ('Apple.csv', index = True, header=True)\n",
    "\n",
    "att = yf.download('T', start='2016-12-12',auto_adjust = True)\n",
    "att.to_csv ('AT&T.csv', index = True, header=True)\n",
    "\n",
    "tesla = yf.download('TSLA', start='2016-12-12',auto_adjust = True)\n",
    "tesla.to_csv ('TESLA.csv', index = True, header=True)"
   ]
  }
 ],
 "metadata": {
  "kernelspec": {
   "display_name": "Python 3",
   "language": "python",
   "name": "python3"
  },
  "language_info": {
   "codemirror_mode": {
    "name": "ipython",
    "version": 3
   },
   "file_extension": ".py",
   "mimetype": "text/x-python",
   "name": "python",
   "nbconvert_exporter": "python",
   "pygments_lexer": "ipython3",
   "version": "3.8.3"
  }
 },
 "nbformat": 4,
 "nbformat_minor": 4
}
