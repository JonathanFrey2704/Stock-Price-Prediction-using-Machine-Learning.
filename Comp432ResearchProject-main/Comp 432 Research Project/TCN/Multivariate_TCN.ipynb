{
 "cells": [
  {
   "cell_type": "code",
   "execution_count": 1,
   "metadata": {},
   "outputs": [],
   "source": [
    "#User defines files\n",
    "from TCN import TemporalConvolutionalNet\n",
    "from Multivariate.Multivariate_preprocessing import mulitvariate_preprocessing\n",
    "from Multivariate.feature_engineering import rsi, wwma, atr\n",
    "\n",
    "import os\n",
    "import sys\n",
    "from pathlib import Path\n",
    "import matplotlib.pyplot as plt\n",
    "import numpy as np\n",
    "import pandas as pd\n",
    "import torch\n",
    "import math\n",
    "from sklearn.metrics import mean_squared_error\n",
    "from sklearn.preprocessing import MinMaxScaler"
   ]
  },
  {
   "cell_type": "markdown",
   "metadata": {},
   "source": [
    "The code below will help define some variables need run the program. It will also create training samples, validation samples and addition sample for testing and forecasting"
   ]
  },
  {
   "cell_type": "code",
   "execution_count": 2,
   "metadata": {},
   "outputs": [
    {
     "name": "stdout",
     "output_type": "stream",
     "text": [
      "Finish resampling\n",
      "Finish resampling\n",
      "Finish resampling\n",
      "Test data size, x-shape, y - shape:  603 torch.Size([583, 4, 20]) torch.Size([583, 1, 20])\n",
      "Validation data size, x-shape, y - shape:  172 torch.Size([152, 4, 20]) torch.Size([152, 1, 20])\n",
      "Forecast data size, x-shape, y - shape:  271 torch.Size([185, 4, 20]) torch.Size([185, 1, 20])\n"
     ]
    }
   ],
   "source": [
    "############# Any forecast size >1 is multi-step/ horizon forecasting. due to the nature of the data\n",
    "############## And the volatility this can lead to unaccurate predictions, therefore we need a recursive forecasting\n",
    "###Method as well for when forecast_size = 5\n",
    "np.set_printoptions(suppress=True)\n",
    "\n",
    "window_size = 14\n",
    "time_steps= 20 #input length\n",
    "forecast_size = 1 #shift in y target as well\n",
    "\n",
    "#for sliding window this is the number of sample you can predict, test_sample_size/forecast_size\n",
    "#ie for sliding window size if forecast_size =1 -> there are 10 extra sample size, if slioding window = 2, there would be 5 extra samples\n",
    "#for jump, this would need to be a multiple of timesteps\n",
    "\n",
    "#Note that if the number of features change, so should the number of layers in the model, the shapes of the channels\n",
    "#and the optimizer's hyper-parameters should be adjusted as well\n",
    "list_of_features =['Close','dayofweek','rsi', 'atr'] # <- list of feature you want the model to take in.\n",
    "\n",
    "#load data\n",
    "# ticer_options = ['APPLE', 'TESLA', 'AT&T', 'S&P500']\n",
    "ticker = 'APPLE'\n",
    "cur_dir = Path(os.getcwd())\n",
    "parent_path = cur_dir.parent\n",
    "f_path = parent_path / 'data/{}.csv'.format(ticker)\n",
    "df=pd.read_csv(f_path)\n",
    "\n",
    "training_sample_size = math.ceil(df.shape[0] * .6)\n",
    "validation_sample_size = math.ceil(df.shape[0] * .15)\n",
    "sampling_Style = 'sliding_window' # sliding_window or jump\n",
    "test_sample_size = math.ceil(df.shape[0] * .25)\n",
    "\n",
    "\n",
    "sample = df[['Date','Open','High','Low','Close','Volume']] #need to ensure extra data for y-target series forecasting\n",
    "sample['Date']= pd.to_datetime(sample['Date'], format ='%Y-%m-%d' ) #convert string to date time\n",
    "sample['dayofweek']= sample['Date'].dt.dayofweek\n",
    "\n",
    "\n",
    "sample_rsi = rsi(sample, window_size)\n",
    "\n",
    "sample_rsi = sample_rsi.set_index('Date')\n",
    "start_index =((sample.shape[0]-window_size)%time_steps + window_size)\n",
    "sample_rsi = sample_rsi[start_index:]#cutoff NaN\n",
    "atr_values = atr(sample_rsi)\n",
    "sample_rsi['atr'] = atr_values \n",
    "\n",
    "sample_rsi = sample_rsi[list_of_features]  # predicting feature should be in column index 0\n",
    "\n",
    "num_features = sample_rsi.shape[1]\n",
    "\n",
    "training_cutoff = training_sample_size + forecast_size \n",
    "validation_cutoff = time_steps + training_cutoff + validation_sample_size + forecast_size\n",
    "forecast_testing_cut = time_steps + validation_cutoff  + test_sample_size\n",
    "\n",
    "\n",
    "train = sample_rsi[:training_cutoff].copy()\n",
    "val = sample_rsi[training_cutoff:validation_cutoff].copy()\n",
    "forecast = sample_rsi[validation_cutoff:forecast_testing_cut].copy()\n",
    "#print(forecast)\n",
    "\n",
    "X_train, y_train = mulitvariate_preprocessing(num_features,time_steps,train,forecast_size,'sliding_window' ) #or jump\n",
    "\n",
    "X_val, y_val = mulitvariate_preprocessing(num_features,time_steps,val, forecast_size,'sliding_window')\n",
    "\n",
    "X_fore, y_fore = mulitvariate_preprocessing(num_features,time_steps,forecast, forecast_size,'sliding_window')\n",
    "\n",
    "\n",
    "print('Test data size, x-shape, y - shape: ', training_cutoff, X_train.shape, y_train.shape)\n",
    "print('Validation data size, x-shape, y - shape: ',  validation_cutoff - training_cutoff, X_val.shape, y_val.shape )\n",
    "print('Forecast data size, x-shape, y - shape: ', forecast_testing_cut - validation_cutoff, X_fore.shape, y_fore.shape )"
   ]
  },
  {
   "cell_type": "markdown",
   "metadata": {},
   "source": [
    "Here the data is in the right shape and ready to be inputed in to the model, however we need to define the model first To define the model we should know the size of the kernel, how many filters and layers the TCN would require"
   ]
  },
  {
   "cell_type": "code",
   "execution_count": 3,
   "metadata": {},
   "outputs": [
    {
     "name": "stdout",
     "output_type": "stream",
     "text": [
      "Current layers 2\n",
      "You should not have more than 3 residual layers or else model will be equivalent to RNN\n"
     ]
    }
   ],
   "source": [
    "in_channels = num_features\n",
    "out_channel = 1\n",
    "filter_size = 3\n",
    "#receptive field = 1 + 2*(kernel_size -1)*(dilation_base^n -1) where n is the nth layer, so we need to solve for n\n",
    "num_layers = math.ceil(math.log((X_train.shape[2]-1)/(2*(filter_size - 1))+1,2))\n",
    "channels = [2,out_channel]\n",
    "print('Current layers', len(channels))\n",
    "if len(channels) != num_layers:\n",
    "    print('You should not have more than {} residual layers or else model will be equivalent to RNN'.format(num_layers))"
   ]
  },
  {
   "cell_type": "markdown",
   "metadata": {},
   "source": [
    "Model Definition"
   ]
  },
  {
   "cell_type": "code",
   "execution_count": 4,
   "metadata": {},
   "outputs": [
    {
     "name": "stdout",
     "output_type": "stream",
     "text": [
      "layers\n",
      "4 2\n",
      "2 1\n"
     ]
    }
   ],
   "source": [
    "model = TemporalConvolutionalNet(in_channels,channels,kernel_size = filter_size,dropout=0.2,weight_normal=True)"
   ]
  },
  {
   "cell_type": "code",
   "execution_count": 5,
   "metadata": {},
   "outputs": [
    {
     "name": "stdout",
     "output_type": "stream",
     "text": [
      "Epoch 20 final had loss 243.4438\n",
      "Epoch 40 final had loss 11.9442\n",
      "Epoch 60 final had loss 4.0283\n",
      "Epoch 80 final had loss 2.0272\n",
      "Epoch 100 final had loss 0.8079\n",
      "Epoch 120 final had loss 1.1330\n",
      "Epoch 140 final had loss 1.1379\n",
      "Epoch 160 final had loss 0.5183\n",
      "Epoch 180 final had loss 0.5231\n",
      "Epoch 200 final had loss 1.1641\n",
      "Epoch 220 final had loss 0.6549\n",
      "Epoch 240 final had loss 0.4673\n",
      "Epoch 260 final had loss 0.5471\n",
      "Epoch 280 final had loss 0.8835\n",
      "Epoch 300 final had loss 0.7524\n",
      "Epoch 320 final had loss 0.7244\n",
      "Epoch 340 final had loss 0.9443\n",
      "Epoch 360 final had loss 0.5893\n",
      "Epoch 380 final had loss 0.4812\n",
      "Epoch 400 final had loss 0.5624\n",
      "Epoch 420 final had loss 0.8547\n",
      "Epoch 440 final had loss 0.7123\n",
      "Epoch 460 final had loss 0.5550\n",
      "Epoch 480 final had loss 0.4681\n"
     ]
    }
   ],
   "source": [
    "##Training Model\n",
    "# The number of times to evaluate the full training data (in this case, number of gradient steps)\n",
    "num_epoch = 500\n",
    "\n",
    "loss = torch.nn.MSELoss()\n",
    "# Use stochastic gradient descent to train the model\n",
    "optimizer = torch.optim.Adam(model.parameters(), lr=0.015, betas=(0.45,0.35), weight_decay=0.4)\n",
    "#optimizer = torch.optim.Adam(model.parameters(), lr=0.015, betas=(0.56,0.42), weight_decay=0.3) <-alternative hyper params\n",
    "\n",
    "\n",
    "for epoch in range(1, num_epoch): \n",
    "    \n",
    "        y_pred = model(X_train)                   # Make predictions (final-layer activations)\n",
    "        loss_value = loss(y_pred, y_train)                 # Compute loss with respect to predictions\n",
    "        #print(y_pred)\n",
    "        \n",
    "        model.zero_grad()                   # Reset all gradient accumulators to zero (PyTorch thing)\n",
    "        loss_value.backward()                        # Compute gradient of loss wrt all parameters (backprop!)\n",
    "        optimizer.step()                    # Use the gradients to take a step with SGD.\n",
    "        \n",
    "        if epoch % 20 == 0:\n",
    "            print(\"Epoch %d final had loss %.4f\" % (epoch, loss_value.item()))\n",
    "        \n",
    "        "
   ]
  },
  {
   "cell_type": "markdown",
   "metadata": {},
   "source": [
    "Here we tested the trained data to see if if the average validation loss is low enough. The reason the average is looked at is because the nature of the data is that it can be volatile. A good model should be able to hand the volatility."
   ]
  },
  {
   "cell_type": "code",
   "execution_count": 6,
   "metadata": {},
   "outputs": [
    {
     "name": "stdout",
     "output_type": "stream",
     "text": [
      "average validaiton loss : 1.2572371973411034\n"
     ]
    },
    {
     "data": {
      "text/plain": [
       "Text(0.5, 1.0, 'Validation Loss')"
      ]
     },
     "execution_count": 6,
     "metadata": {},
     "output_type": "execute_result"
    },
    {
     "data": {
      "image/png": "[encoded data removed]",
      "text/plain": [
       "<Figure size 432x288 with 1 Axes>"
      ]
     },
     "metadata": {
      "needs_background": "light"
     },
     "output_type": "display_data"
    }
   ],
   "source": [
    "#Validating Model\n",
    "validation_loss = []\n",
    "with torch.no_grad():\n",
    "    model.eval() #stops dropout\n",
    "    for i in range(X_val.shape[0]):\n",
    "        x_input = X_val[i:i+1,:,:]\n",
    "        y_target = y_val[i:i+1,:,:]\n",
    "        \n",
    "        y_hat = model(x_input)                   \n",
    "        val_loss = loss(y_hat, y_target)\n",
    "        validation_loss.append(val_loss.item())\n",
    "        \n",
    "print('average validaiton loss :', np.mean(np.array(validation_loss)))\n",
    "plt.plot(np.arange(len(validation_loss)),validation_loss,label='Loss')\n",
    "plt.title('Validation Loss')"
   ]
  },
  {
   "cell_type": "markdown",
   "metadata": {},
   "source": [
    "Given a new set of data we will input it into the model to determine what it predicts"
   ]
  },
  {
   "cell_type": "markdown",
   "metadata": {},
   "source": [
    "\n",
    "Recall:\n",
    "Forecasting via sliding window approach\n",
    "Input and Output are the same length.\n",
    "We shift the target series by time num_predictions\n",
    "thus the difference between the input and output will be the prediction of len num_predictions\n",
    "\n",
    "Ex:\n",
    "num_predictions = 2\n",
    "input : t1,t2,t3,t4,t5 \n",
    "target : t3,t4,t5,t6,t7\n",
    "predictions = t6,t7\n",
    "Your total data should be input + ti i in 1...n where n is num_predictions and input would have len time_steps, so\n",
    "t1,t2,t3,t4,t5,t6,t7\n",
    "\n",
    "model(input) -> output where len(output) = len(input) and where values 0...len(input)-num_predictions are already\n",
    "known to the model\n",
    "\n",
    "thus if you tail total_data.tail(num_predictions) you get the actual values of t5+i where i is in  1...num_predictions\n"
   ]
  },
  {
   "cell_type": "code",
   "execution_count": 7,
   "metadata": {},
   "outputs": [],
   "source": [
    "model.eval()\n",
    "forecasted = []\n",
    "for sample in range(X_fore.shape[0]):\n",
    "    sample_input = X_fore[sample:sample+1,:,:]\n",
    "    y_pred_fore = model(sample_input)\n",
    "    #print(X_fore[sample:sample+1,0:1,:])\n",
    "    #print(y_pred_fore)\n",
    "    y_pred_fore_val = y_pred_fore.detach().numpy().reshape(-1) # entirety of model ouput in 1D array\n",
    "    y_fore_hat = y_pred_fore_val[y_pred_fore.shape[2]-forecast_size:] # forcasted aka shifted y, take last forecast_size elements\n",
    "    forecasted.append(y_fore_hat[0])\n",
    "    #print(y_fore_hat)\n",
    "    "
   ]
  },
  {
   "cell_type": "code",
   "execution_count": 8,
   "metadata": {},
   "outputs": [
    {
     "name": "stdout",
     "output_type": "stream",
     "text": [
      "RMSE Loss for forecasted value(s):  2.8940111157883144\n"
     ]
    },
    {
     "data": {
      "image/png": "[encoded data removed]",
      "text/plain": [
       "<Figure size 432x288 with 1 Axes>"
      ]
     },
     "metadata": {
      "needs_background": "light"
     },
     "output_type": "display_data"
    }
   ],
   "source": [
    "# last forecast_size sample, here these are the actual values of t+1,t+2... \n",
    "#assuming sliding window style\n",
    "y_pred_actual = forecast['Close'].tail(X_fore.shape[0])\n",
    "\n",
    "plt.plot(y_pred_actual.index,y_pred_actual.to_numpy(),label = 'Actual')\n",
    "plt.plot(y_pred_actual.index,forecasted,label = 'Predicted')\n",
    "plt.legend()\n",
    "#print('Actual: ',y_pred_actual.to_numpy())\n",
    "#print('Forecasted: ',forecasted )\n",
    "\n",
    "forecasted_loss = math.sqrt(mean_squared_error(forecasted,y_pred_actual.to_numpy()))\n",
    "print('RMSE Loss for forecasted value(s): ', forecasted_loss)\n",
    "#print('Loss on the Dollar: ', np.sum(y_pred_actual.to_numpy() - forecasted))"
   ]
  },
  {
   "cell_type": "code",
   "execution_count": null,
   "metadata": {},
   "outputs": [],
   "source": []
  }
 ],
 "metadata": {
  "kernelspec": {
   "display_name": "Python 3",
   "language": "python",
   "name": "python3"
  },
  "language_info": {
   "codemirror_mode": {
    "name": "ipython",
    "version": 3
   },
   "file_extension": ".py",
   "mimetype": "text/x-python",
   "name": "python",
   "nbconvert_exporter": "python",
   "pygments_lexer": "ipython3",
   "version": "3.8.5"
  }
 },
 "nbformat": 4,
 "nbformat_minor": 4
}
