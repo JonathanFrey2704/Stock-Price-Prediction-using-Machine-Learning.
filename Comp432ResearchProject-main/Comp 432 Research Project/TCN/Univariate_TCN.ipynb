{
 "cells": [
  {
   "cell_type": "code",
   "execution_count": 1,
   "metadata": {},
   "outputs": [],
   "source": [
    "#User defines files\n",
    "from TCN import TemporalConvolutionalNet\n",
    "from Univariate.Univariate_preprocessing import univariate_preprocessing\n",
    "\n",
    "import os\n",
    "import sys\n",
    "from pathlib import Path\n",
    "import matplotlib.pyplot as plt\n",
    "import numpy as np\n",
    "import pandas as pd\n",
    "import torch\n",
    "import math\n",
    "from sklearn.metrics import mean_squared_error\n",
    "from sklearn.preprocessing import MinMaxScaler"
   ]
  },
  {
   "cell_type": "markdown",
   "metadata": {},
   "source": [
    "The code below will help define some variables need run the program. It will also create training samples, validation samples and addition sample for testing and forecasting."
   ]
  },
  {
   "cell_type": "code",
   "execution_count": 2,
   "metadata": {},
   "outputs": [
    {
     "name": "stderr",
     "output_type": "stream",
     "text": [
      "<ipython-input-2-ccd284e12ba5>:23: SettingWithCopyWarning: \n",
      "A value is trying to be set on a copy of a slice from a DataFrame.\n",
      "Try using .loc[row_indexer,col_indexer] = value instead\n",
      "\n",
      "See the caveats in the documentation: https://pandas.pydata.org/pandas-docs/stable/user_guide/indexing.html#returning-a-view-versus-a-copy\n",
      "  sample['Date']= pd.to_datetime(sample['Date'], format ='%Y-%m-%d' ) #convert string to date time\n"
     ]
    },
    {
     "name": "stdout",
     "output_type": "stream",
     "text": [
      "Finish resampling\n",
      "Finish resampling\n",
      "Finish resampling\n",
      "Test data size, x-shape, y - shape:  603 torch.Size([583, 1, 20]) torch.Size([583, 1, 20])\n",
      "Validation data size, x-shape, y - shape:  172 torch.Size([152, 1, 20]) torch.Size([152, 1, 20])\n",
      "Forecast data size, x-shape, y - shape:  271 torch.Size([208, 1, 20]) torch.Size([208, 1, 20])\n"
     ]
    }
   ],
   "source": [
    "np.set_printoptions(suppress=True)\n",
    "\n",
    "window_size = 14 #-> rsi\n",
    "time_steps= 20 #input length\n",
    "forecast_size = 1 #shift in y target as well\n",
    "\n",
    "\n",
    "#load data\n",
    "# ticer_options = ['APPLE', 'TESLA', 'AT&T', 'S&P500']\n",
    "ticker = 'APPLE'\n",
    "cur_dir = Path(os.getcwd())\n",
    "parent_path = cur_dir.parent\n",
    "f_path = parent_path / 'data/{}.csv'.format(ticker)\n",
    "df=pd.read_csv(f_path)\n",
    "\n",
    "training_sample_size = math.ceil(df.shape[0] * .6)\n",
    "validation_sample_size = math.ceil(df.shape[0] * .15)\n",
    "sampling_Style = 'sliding_window' # sliding_window or jump\n",
    "test_sample_size = math.ceil(df.shape[0] * .25)\n",
    "\n",
    "\n",
    "sample = df[['Date','Close']] #need to ensure extra data for y-target series forecasting\n",
    "sample['Date']= pd.to_datetime(sample['Date'], format ='%Y-%m-%d' ) #convert string to date time\n",
    "sample = sample.set_index('Date')\n",
    "num_features = sample.shape[1]\n",
    "sample_df = sample.copy()\n",
    "\n",
    "training_cutoff = training_sample_size + forecast_size \n",
    "validation_cutoff = time_steps + training_cutoff + validation_sample_size + forecast_size\n",
    "forecast_testing_cut = time_steps + validation_cutoff  + test_sample_size\n",
    "\n",
    "\n",
    "train = sample_df[:training_cutoff].copy()\n",
    "val = sample_df[training_cutoff:validation_cutoff].copy()\n",
    "forecast = sample_df[validation_cutoff:forecast_testing_cut].copy()\n",
    "\n",
    "Xtrain = train.to_numpy()\n",
    "xval = val.to_numpy()\n",
    "xforecast = forecast.to_numpy()\n",
    "\n",
    "scaler = MinMaxScaler()\n",
    "scaler.fit(Xtrain)\n",
    "\n",
    "\n",
    "train['Close'] = scaler.transform(Xtrain)\n",
    "val['Close'] = scaler.transform(xval)\n",
    "forecast['Close'] = scaler.transform(xforecast)\n",
    "\n",
    "X_train, y_train = univariate_preprocessing(num_features,time_steps,train,forecast_size,'sliding_window' ) #or jump\n",
    "\n",
    "X_val, y_val = univariate_preprocessing(num_features,time_steps,val, forecast_size,'sliding_window')\n",
    "\n",
    "X_fore, y_fore = univariate_preprocessing(num_features,time_steps,forecast, forecast_size,'sliding_window')\n",
    "\n",
    "\n",
    "print('Test data size, x-shape, y - shape: ', training_cutoff, X_train.shape, y_train.shape)\n",
    "print('Validation data size, x-shape, y - shape: ',  validation_cutoff - training_cutoff, X_val.shape, y_val.shape)\n",
    "print('Forecast data size, x-shape, y - shape: ', forecast_testing_cut - validation_cutoff, X_fore.shape, y_fore.shape)"
   ]
  },
  {
   "cell_type": "markdown",
   "metadata": {},
   "source": [
    "Here the data is in the right shape and ready to be inputed in to the model, however we need to define the model first\n",
    "To define the model we should know the size of the kernel, how many filters and layers the TCN would require"
   ]
  },
  {
   "cell_type": "code",
   "execution_count": 3,
   "metadata": {},
   "outputs": [
    {
     "name": "stdout",
     "output_type": "stream",
     "text": [
      "Current layers 2\n",
      "You should not have more than 3 residual layers or else model will be equivalent to RNN\n"
     ]
    }
   ],
   "source": [
    "#receptive field = 1 + 2*(kernel_size -1)*(dilation_base^n -1) where n is the nth layer, so we need to solve for n\n",
    "in_channels = num_features\n",
    "out_channel = 1\n",
    "filter_size = 3\n",
    "num_layers = math.ceil(math.log((X_train.shape[2]-1)/(2*(filter_size - 1))+1,2))\n",
    "channels = [1,out_channel]\n",
    "print('Current layers', len(channels))\n",
    "if len(channels) != num_layers:\n",
    "    print('You should not have more than {} residual layers or else model will be equivalent to RNN'.format(num_layers))"
   ]
  },
  {
   "cell_type": "markdown",
   "metadata": {},
   "source": [
    "Model Definition"
   ]
  },
  {
   "cell_type": "code",
   "execution_count": 4,
   "metadata": {},
   "outputs": [
    {
     "name": "stdout",
     "output_type": "stream",
     "text": [
      "layers\n",
      "1 1\n",
      "1 1\n"
     ]
    }
   ],
   "source": [
    "model = TemporalConvolutionalNet(in_channels,channels,kernel_size = filter_size,dropout=0.2,weight_normal=True)"
   ]
  },
  {
   "cell_type": "code",
   "execution_count": 5,
   "metadata": {},
   "outputs": [
    {
     "name": "stdout",
     "output_type": "stream",
     "text": [
      "Epoch 10 final had loss 0.1560\n",
      "Epoch 20 final had loss 0.1505\n",
      "Epoch 30 final had loss 0.1408\n",
      "Epoch 40 final had loss 0.1377\n",
      "Epoch 50 final had loss 0.1321\n",
      "Epoch 60 final had loss 0.1236\n",
      "Epoch 70 final had loss 0.1196\n",
      "Epoch 80 final had loss 0.1153\n",
      "Epoch 90 final had loss 0.1120\n",
      "Epoch 100 final had loss 0.1056\n",
      "Epoch 110 final had loss 0.1006\n",
      "Epoch 120 final had loss 0.0971\n",
      "Epoch 130 final had loss 0.0931\n",
      "Epoch 140 final had loss 0.0867\n",
      "Epoch 150 final had loss 0.0830\n",
      "Epoch 160 final had loss 0.0787\n",
      "Epoch 170 final had loss 0.0744\n",
      "Epoch 180 final had loss 0.0714\n",
      "Epoch 190 final had loss 0.0678\n",
      "Epoch 200 final had loss 0.0650\n",
      "Epoch 210 final had loss 0.0603\n",
      "Epoch 220 final had loss 0.0580\n",
      "Epoch 230 final had loss 0.0541\n",
      "Epoch 240 final had loss 0.0516\n",
      "Epoch 250 final had loss 0.0479\n",
      "Epoch 260 final had loss 0.0448\n",
      "Epoch 270 final had loss 0.0436\n",
      "Epoch 280 final had loss 0.0408\n",
      "Epoch 290 final had loss 0.0378\n",
      "Epoch 300 final had loss 0.0352\n",
      "Epoch 310 final had loss 0.0331\n",
      "Epoch 320 final had loss 0.0309\n",
      "Epoch 330 final had loss 0.0284\n",
      "Epoch 340 final had loss 0.0267\n",
      "Epoch 350 final had loss 0.0247\n",
      "Epoch 360 final had loss 0.0231\n",
      "Epoch 370 final had loss 0.0222\n",
      "Epoch 380 final had loss 0.0208\n",
      "Epoch 390 final had loss 0.0192\n",
      "Epoch 400 final had loss 0.0194\n",
      "Epoch 410 final had loss 0.0178\n",
      "Epoch 420 final had loss 0.0167\n",
      "Epoch 430 final had loss 0.0159\n",
      "Epoch 440 final had loss 0.0151\n",
      "Epoch 450 final had loss 0.0145\n",
      "Epoch 460 final had loss 0.0134\n",
      "Epoch 470 final had loss 0.0128\n",
      "Epoch 480 final had loss 0.0119\n",
      "Epoch 490 final had loss 0.0114\n"
     ]
    }
   ],
   "source": [
    "#training\n",
    "num_epoch = 500\n",
    "\n",
    "loss = torch.nn.MSELoss()\n",
    "# Use stochastic gradient descent to train the model\n",
    "optimizer = torch.optim.Adam(model.parameters(), lr=0.0005, betas=(0.5,0.35), weight_decay=0.35)\n",
    "\n",
    "for epoch in range(1, num_epoch): \n",
    "    \n",
    "    y_pred = model(X_train)                   # Make predictions (final-layer activations)\n",
    "    loss_value = loss(y_pred, y_train)                 # Compute loss with respect to predictions\n",
    "    #print(y_pred)\n",
    "        \n",
    "    model.zero_grad()                   # Reset all gradient accumulators to zero (PyTorch thing)\n",
    "    loss_value.backward()                        # Compute gradient of loss wrt all parameters (backprop!)\n",
    "    optimizer.step()                    # Use the gradients to take a step with SGD.\n",
    "        \n",
    "    if epoch % 10 == 0:\n",
    "        print(\"Epoch %d final had loss %.4f\" % (epoch, loss_value.item()))\n",
    "        \n",
    "        "
   ]
  },
  {
   "cell_type": "markdown",
   "metadata": {},
   "source": [
    "Here we tested the trained data to see if if the average validation loss is low enough. The reason the average is looked at is because the nature of the data is that it can be volatile. A good model should be able to hand the volatility."
   ]
  },
  {
   "cell_type": "code",
   "execution_count": 6,
   "metadata": {},
   "outputs": [
    {
     "name": "stdout",
     "output_type": "stream",
     "text": [
      "average validaiton loss : 0.0029081462286596528\n"
     ]
    },
    {
     "data": {
      "text/plain": [
       "Text(0.5, 1.0, 'Validation Loss')"
      ]
     },
     "execution_count": 6,
     "metadata": {},
     "output_type": "execute_result"
    },
    {
     "data": {
      "image/png": "[encoded data removed]",
      "text/plain": [
       "<Figure size 432x288 with 1 Axes>"
      ]
     },
     "metadata": {
      "needs_background": "light"
     },
     "output_type": "display_data"
    }
   ],
   "source": [
    "#Validating Model\n",
    "validation_loss = []\n",
    "with torch.no_grad():\n",
    "    model.eval() #stops dropout\n",
    "    for i in range(X_val.shape[0]):\n",
    "        x_input = X_val[i:i+1,:,:]\n",
    "        y_target = y_val[i:i+1,:,:]\n",
    "        \n",
    "        y_hat = model(x_input)                   \n",
    "        val_loss = loss(y_hat, y_target)\n",
    "        validation_loss.append(val_loss.item())\n",
    "        \n",
    "print('average validaiton loss :', np.mean(np.array(validation_loss)))\n",
    "plt.plot(np.arange(len(validation_loss)),validation_loss,label='Loss')\n",
    "plt.title('Validation Loss')"
   ]
  },
  {
   "cell_type": "markdown",
   "metadata": {},
   "source": [
    "Given a new set of data we will input it into the model to determine what it predicts"
   ]
  },
  {
   "cell_type": "code",
   "execution_count": 7,
   "metadata": {},
   "outputs": [],
   "source": [
    "model.eval()\n",
    "forecasted = []\n",
    "for value in range(X_fore.shape[0]):\n",
    "    sample_input = X_fore[value:value+1,:,:]\n",
    "    y_pred_fore = model(sample_input)\n",
    "    #print(X_fore[value:value+1,0:1,:])\n",
    "    #print(y_pred_fore)\n",
    "    y_pred_fore_val = y_pred_fore.detach().numpy().reshape(-1) # entirety of model ouput in 1D array\n",
    "    y_fore_hat = y_pred_fore_val[y_pred_fore.shape[2]-forecast_size:] # forcasted aka shifted y, take last forecast_size elements\n",
    "    forecasted.append(y_fore_hat[0])\n",
    "    #print(y_fore_hat)"
   ]
  },
  {
   "cell_type": "code",
   "execution_count": 8,
   "metadata": {},
   "outputs": [
    {
     "name": "stdout",
     "output_type": "stream",
     "text": [
      "RMSE Loss for forecasted value(s):  2.7313280910505053\n"
     ]
    },
    {
     "data": {
      "image/png": "[encoded data removed]",
      "text/plain": [
       "<Figure size 432x288 with 1 Axes>"
      ]
     },
     "metadata": {
      "needs_background": "light"
     },
     "output_type": "display_data"
    }
   ],
   "source": [
    "# last forecast_size sample, here these are the actual values of t+1,t+2... \n",
    "#assuming sliding window style\n",
    "forecasted_inv = scaler.inverse_transform(np.array(forecasted).reshape(-1, 1))\n",
    "\n",
    "y_pred_actual = sample[validation_cutoff:forecast_testing_cut].tail(forecasted_inv.shape[0])\n",
    "\n",
    "plt.plot(y_pred_actual.index,y_pred_actual.to_numpy(),label = 'Actual')\n",
    "plt.plot(y_pred_actual.index,forecasted_inv,label = 'Predicted')\n",
    "plt.legend()\n",
    "#print('Actual: ',y_pred_actual.to_numpy().reshape(1,-1))\n",
    "#print('Forecasted: ',forecasted_inv.reshape(1,-1))\n",
    "\n",
    "forecasted_loss = math.sqrt(mean_squared_error(forecasted_inv,y_pred_actual.to_numpy()))\n",
    "print('RMSE Loss for forecasted value(s): ', forecasted_loss)"
   ]
  },
  {
   "cell_type": "code",
   "execution_count": null,
   "metadata": {},
   "outputs": [],
   "source": []
  }
 ],
 "metadata": {
  "kernelspec": {
   "display_name": "Python 3",
   "language": "python",
   "name": "python3"
  },
  "language_info": {
   "codemirror_mode": {
    "name": "ipython",
    "version": 3
   },
   "file_extension": ".py",
   "mimetype": "text/x-python",
   "name": "python",
   "nbconvert_exporter": "python",
   "pygments_lexer": "ipython3",
   "version": "3.8.5"
  }
 },
 "nbformat": 4,
 "nbformat_minor": 4
}
