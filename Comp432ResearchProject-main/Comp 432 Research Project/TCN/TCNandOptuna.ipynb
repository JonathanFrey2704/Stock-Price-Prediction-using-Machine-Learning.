{
  "nbformat": 4,
  "nbformat_minor": 0,
  "metadata": {
    "colab": {
      "name": "TCNandOptuna.ipynb",
      "provenance": [],
      "collapsed_sections": []
    },
    "kernelspec": {
      "name": "python3",
      "display_name": "Python 3"
    }
  },
  "cells": [
    {
      "cell_type": "code",
      "metadata": {
        "id": "ti17BhySjPqK",
        "colab": {
          "base_uri": "https://localhost:8080/"
        },
        "outputId": "4caeee7d-a1ed-48b6-ce9b-1bd9e34d6530"
      },
      "source": [
        "from google.colab import drive\n",
        "from torch import nn\n",
        "import matplotlib.pyplot as plt\n",
        "import numpy as np\n",
        "import pandas as pd\n",
        "from torch.nn.utils import weight_norm\n",
        "from sklearn.preprocessing import StandardScaler\n",
        "import torch.nn.utils \n",
        "import torch\n",
        "import copy\n",
        "import math\n",
        "from datetime import datetime, timedelta\n",
        "from sklearn.metrics import mean_squared_error\n",
        "!pip install optuna"
      ],
      "execution_count": 1,
      "outputs": [
        {
          "output_type": "stream",
          "text": [
            "Collecting optuna\n",
            "\u001b[?25l  Downloading https://files.pythonhosted.org/packages/87/10/06b58f4120f26b603d905a594650440ea1fd74476b8b360dbf01e111469b/optuna-2.3.0.tar.gz (258kB)\n",
            "\r\u001b[K     |█▎                              | 10kB 16.8MB/s eta 0:00:01\r\u001b[K     |██▌                             | 20kB 20.6MB/s eta 0:00:01\r\u001b[K     |███▉                            | 30kB 10.5MB/s eta 0:00:01\r\u001b[K     |█████                           | 40kB 8.4MB/s eta 0:00:01\r\u001b[K     |██████▍                         | 51kB 4.2MB/s eta 0:00:01\r\u001b[K     |███████▋                        | 61kB 4.7MB/s eta 0:00:01\r\u001b[K     |████████▉                       | 71kB 4.9MB/s eta 0:00:01\r\u001b[K     |██████████▏                     | 81kB 5.3MB/s eta 0:00:01\r\u001b[K     |███████████▍                    | 92kB 5.6MB/s eta 0:00:01\r\u001b[K     |████████████▊                   | 102kB 5.8MB/s eta 0:00:01\r\u001b[K     |██████████████                  | 112kB 5.8MB/s eta 0:00:01\r\u001b[K     |███████████████▏                | 122kB 5.8MB/s eta 0:00:01\r\u001b[K     |████████████████▌               | 133kB 5.8MB/s eta 0:00:01\r\u001b[K     |█████████████████▊              | 143kB 5.8MB/s eta 0:00:01\r\u001b[K     |███████████████████             | 153kB 5.8MB/s eta 0:00:01\r\u001b[K     |████████████████████▎           | 163kB 5.8MB/s eta 0:00:01\r\u001b[K     |█████████████████████▌          | 174kB 5.8MB/s eta 0:00:01\r\u001b[K     |██████████████████████▉         | 184kB 5.8MB/s eta 0:00:01\r\u001b[K     |████████████████████████        | 194kB 5.8MB/s eta 0:00:01\r\u001b[K     |█████████████████████████▍      | 204kB 5.8MB/s eta 0:00:01\r\u001b[K     |██████████████████████████▋     | 215kB 5.8MB/s eta 0:00:01\r\u001b[K     |███████████████████████████▉    | 225kB 5.8MB/s eta 0:00:01\r\u001b[K     |█████████████████████████████▏  | 235kB 5.8MB/s eta 0:00:01\r\u001b[K     |██████████████████████████████▍ | 245kB 5.8MB/s eta 0:00:01\r\u001b[K     |███████████████████████████████▊| 256kB 5.8MB/s eta 0:00:01\r\u001b[K     |████████████████████████████████| 266kB 5.8MB/s \n",
            "\u001b[?25h  Installing build dependencies ... \u001b[?25l\u001b[?25hdone\n",
            "  Getting requirements to build wheel ... \u001b[?25l\u001b[?25hdone\n",
            "    Preparing wheel metadata ... \u001b[?25l\u001b[?25hdone\n",
            "Requirement already satisfied: tqdm in /usr/local/lib/python3.6/dist-packages (from optuna) (4.41.1)\n",
            "Collecting colorlog\n",
            "  Downloading https://files.pythonhosted.org/packages/4e/c8/c16d30bbed11a1722060014c246d124582d1f781b26f5859d8dacc3e08e1/colorlog-4.6.2-py2.py3-none-any.whl\n",
            "Requirement already satisfied: scipy!=1.4.0 in /usr/local/lib/python3.6/dist-packages (from optuna) (1.4.1)\n",
            "Collecting alembic\n",
            "\u001b[?25l  Downloading https://files.pythonhosted.org/packages/12/aa/c261dfd7f4ba6ce4701846a2689a46e2a172e012171de4378fc2926e3bf0/alembic-1.4.3-py2.py3-none-any.whl (159kB)\n",
            "\u001b[K     |████████████████████████████████| 163kB 31.0MB/s \n",
            "\u001b[?25hRequirement already satisfied: numpy in /usr/local/lib/python3.6/dist-packages (from optuna) (1.18.5)\n",
            "Collecting cmaes>=0.6.0\n",
            "  Downloading https://files.pythonhosted.org/packages/8d/3c/06c76ec8b54b9b1fad7f35e903fd25010fe3e0d41bd94cea5e6f12e0d651/cmaes-0.7.0-py3-none-any.whl\n",
            "Requirement already satisfied: sqlalchemy>=1.1.0 in /usr/local/lib/python3.6/dist-packages (from optuna) (1.3.20)\n",
            "Collecting cliff\n",
            "\u001b[?25l  Downloading https://files.pythonhosted.org/packages/8a/61/5b64d73b01c1218f55c894b5ec0fb89b32c6960b7f7b3ad9f5ac0c373b9d/cliff-3.5.0-py3-none-any.whl (81kB)\n",
            "\u001b[K     |████████████████████████████████| 81kB 7.3MB/s \n",
            "\u001b[?25hRequirement already satisfied: joblib in /usr/local/lib/python3.6/dist-packages (from optuna) (0.17.0)\n",
            "Requirement already satisfied: packaging>=20.0 in /usr/local/lib/python3.6/dist-packages (from optuna) (20.4)\n",
            "Collecting python-editor>=0.3\n",
            "  Downloading https://files.pythonhosted.org/packages/c6/d3/201fc3abe391bbae6606e6f1d598c15d367033332bd54352b12f35513717/python_editor-1.0.4-py3-none-any.whl\n",
            "Collecting Mako\n",
            "\u001b[?25l  Downloading https://files.pythonhosted.org/packages/a6/37/0e706200d22172eb8fa17d68a7ae22dec7631a0a92266634fb518a88a5b2/Mako-1.1.3-py2.py3-none-any.whl (75kB)\n",
            "\u001b[K     |████████████████████████████████| 81kB 8.0MB/s \n",
            "\u001b[?25hRequirement already satisfied: python-dateutil in /usr/local/lib/python3.6/dist-packages (from alembic->optuna) (2.8.1)\n",
            "Collecting stevedore>=2.0.1\n",
            "\u001b[?25l  Downloading https://files.pythonhosted.org/packages/d4/49/b602307aeac3df3384ff1fcd05da9c0376c622a6c48bb5325f28ab165b57/stevedore-3.3.0-py3-none-any.whl (49kB)\n",
            "\u001b[K     |████████████████████████████████| 51kB 5.8MB/s \n",
            "\u001b[?25hRequirement already satisfied: PyYAML>=3.12 in /usr/local/lib/python3.6/dist-packages (from cliff->optuna) (3.13)\n",
            "Collecting pbr!=2.1.0,>=2.0.0\n",
            "\u001b[?25l  Downloading https://files.pythonhosted.org/packages/fb/48/69046506f6ac61c1eaa9a0d42d22d54673b69e176d30ca98e3f61513e980/pbr-5.5.1-py2.py3-none-any.whl (106kB)\n",
            "\u001b[K     |████████████████████████████████| 112kB 22.4MB/s \n",
            "\u001b[?25hCollecting cmd2!=0.8.3,>=0.8.0\n",
            "\u001b[?25l  Downloading https://files.pythonhosted.org/packages/27/54/af6e2703f064485d717cb311d3f9440cd302a823ba6d80a020b59eae166d/cmd2-1.4.0-py3-none-any.whl (133kB)\n",
            "\u001b[K     |████████████████████████████████| 133kB 25.4MB/s \n",
            "\u001b[?25hRequirement already satisfied: pyparsing>=2.1.0 in /usr/local/lib/python3.6/dist-packages (from cliff->optuna) (2.4.7)\n",
            "Requirement already satisfied: six>=1.10.0 in /usr/local/lib/python3.6/dist-packages (from cliff->optuna) (1.15.0)\n",
            "Collecting PrettyTable<0.8,>=0.7.2\n",
            "  Downloading https://files.pythonhosted.org/packages/ef/30/4b0746848746ed5941f052479e7c23d2b56d174b82f4fd34a25e389831f5/prettytable-0.7.2.tar.bz2\n",
            "Requirement already satisfied: MarkupSafe>=0.9.2 in /usr/local/lib/python3.6/dist-packages (from Mako->alembic->optuna) (1.1.1)\n",
            "Requirement already satisfied: importlib-metadata>=1.7.0; python_version < \"3.8\" in /usr/local/lib/python3.6/dist-packages (from stevedore>=2.0.1->cliff->optuna) (2.0.0)\n",
            "Collecting colorama>=0.3.7\n",
            "  Downloading https://files.pythonhosted.org/packages/44/98/5b86278fbbf250d239ae0ecb724f8572af1c91f4a11edf4d36a206189440/colorama-0.4.4-py2.py3-none-any.whl\n",
            "Requirement already satisfied: wcwidth>=0.1.7 in /usr/local/lib/python3.6/dist-packages (from cmd2!=0.8.3,>=0.8.0->cliff->optuna) (0.2.5)\n",
            "Collecting pyperclip>=1.6\n",
            "  Downloading https://files.pythonhosted.org/packages/6f/4c/0b1d507ad7e8bc31d690d04b4f475e74c2002d060f7994ce8c09612df707/pyperclip-1.8.1.tar.gz\n",
            "Requirement already satisfied: attrs>=16.3.0 in /usr/local/lib/python3.6/dist-packages (from cmd2!=0.8.3,>=0.8.0->cliff->optuna) (20.3.0)\n",
            "Requirement already satisfied: zipp>=0.5 in /usr/local/lib/python3.6/dist-packages (from importlib-metadata>=1.7.0; python_version < \"3.8\"->stevedore>=2.0.1->cliff->optuna) (3.4.0)\n",
            "Building wheels for collected packages: optuna\n",
            "  Building wheel for optuna (PEP 517) ... \u001b[?25l\u001b[?25hdone\n",
            "  Created wheel for optuna: filename=optuna-2.3.0-cp36-none-any.whl size=359761 sha256=5b285eb9e50648a8e81ff08fcd0efd209d66104c4cb3ac03dd54a40e0dcc07d1\n",
            "  Stored in directory: /root/.cache/pip/wheels/fa/91/19/64b0ec6b964f89c0695a9dc6db6f851d0b54c5381a5c9cadfb\n",
            "Successfully built optuna\n",
            "Building wheels for collected packages: PrettyTable, pyperclip\n",
            "  Building wheel for PrettyTable (setup.py) ... \u001b[?25l\u001b[?25hdone\n",
            "  Created wheel for PrettyTable: filename=prettytable-0.7.2-cp36-none-any.whl size=13700 sha256=1b8893c9ea843edb026d3f6e714eaf454f2aca2e0e640354d312a13c52e4f48e\n",
            "  Stored in directory: /root/.cache/pip/wheels/80/34/1c/3967380d9676d162cb59513bd9dc862d0584e045a162095606\n",
            "  Building wheel for pyperclip (setup.py) ... \u001b[?25l\u001b[?25hdone\n",
            "  Created wheel for pyperclip: filename=pyperclip-1.8.1-cp36-none-any.whl size=11119 sha256=4f7e76a8585b7a157b4a04274154dffd411caaf505a18dc51de7fb9df7665a0c\n",
            "  Stored in directory: /root/.cache/pip/wheels/44/10/3a/c830e9bb3db2c93274ea1f213a41fabde0d8cf3794251fad0c\n",
            "Successfully built PrettyTable pyperclip\n",
            "Installing collected packages: colorlog, python-editor, Mako, alembic, cmaes, pbr, stevedore, colorama, pyperclip, cmd2, PrettyTable, cliff, optuna\n",
            "  Found existing installation: prettytable 2.0.0\n",
            "    Uninstalling prettytable-2.0.0:\n",
            "      Successfully uninstalled prettytable-2.0.0\n",
            "Successfully installed Mako-1.1.3 PrettyTable-0.7.2 alembic-1.4.3 cliff-3.5.0 cmaes-0.7.0 cmd2-1.4.0 colorama-0.4.4 colorlog-4.6.2 optuna-2.3.0 pbr-5.5.1 pyperclip-1.8.1 python-editor-1.0.4 stevedore-3.3.0\n"
          ],
          "name": "stdout"
        }
      ]
    },
    {
      "cell_type": "code",
      "metadata": {
        "id": "d8Ge9acIjXtl",
        "colab": {
          "base_uri": "https://localhost:8080/"
        },
        "outputId": "d0f4b233-b8ef-4057-c52b-0e82b1e1ea5d"
      },
      "source": [
        "drive.mount('/content/drive')\n",
        "path = '/content/drive/My Drive/Colab Notebooks/Data/SPY.csv'\n",
        "\n",
        "df=pd.read_csv(path)\n",
        "print(df)"
      ],
      "execution_count": 2,
      "outputs": [
        {
          "output_type": "stream",
          "text": [
            "Mounted at /content/drive\n",
            "                          date   close    high  ...  adjVolume  divCash  splitFactor\n",
            "0    2018-01-02 00:00:00+00:00  268.77  268.81  ...   86655749      0.0          1.0\n",
            "1    2018-01-03 00:00:00+00:00  270.47  270.64  ...   90070416      0.0          1.0\n",
            "2    2018-01-04 00:00:00+00:00  271.61  272.16  ...   80636408      0.0          1.0\n",
            "3    2018-01-05 00:00:00+00:00  273.42  273.56  ...   83523995      0.0          1.0\n",
            "4    2018-01-08 00:00:00+00:00  273.92  274.10  ...   57319192      0.0          1.0\n",
            "..                         ...     ...     ...  ...        ...      ...          ...\n",
            "665  2020-08-24 00:00:00+00:00  342.92  343.00  ...   48588662      0.0          1.0\n",
            "666  2020-08-25 00:00:00+00:00  344.12  344.21  ...   38463381      0.0          1.0\n",
            "667  2020-08-26 00:00:00+00:00  347.57  347.86  ...   50790237      0.0          1.0\n",
            "668  2020-08-27 00:00:00+00:00  348.33  349.90  ...   58034142      0.0          1.0\n",
            "669  2020-08-28 00:00:00+00:00  350.58  350.72  ...   48588940      0.0          1.0\n",
            "\n",
            "[670 rows x 13 columns]\n"
          ],
          "name": "stdout"
        }
      ]
    },
    {
      "cell_type": "code",
      "metadata": {
        "id": "YYJID7tcjfFZ"
      },
      "source": [
        ""
      ],
      "execution_count": 2,
      "outputs": []
    },
    {
      "cell_type": "code",
      "metadata": {
        "id": "KD8RoXtfjk6v"
      },
      "source": [
        "class Residual_Block(nn.Module):\n",
        "    def __init__(self, n_inputs, n_outputs,kernel_size=3,stride=(1,1),dilation=2,padding = 0, \n",
        "               dropout = 0.2, weight_normalization=True):\n",
        "    \n",
        "        super(Residual_Block, self).__init__()\n",
        "        \n",
        "        self.n_inputs = n_inputs #input channel\n",
        "        self.n_outputs = n_outputs #output channels\n",
        "        self.kernel_size = kernel_size\n",
        "        self.dilation = dilation\n",
        "        \n",
        "        \n",
        "        self.conv1 = nn.Conv1d(in_channels = n_inputs,out_channels = n_outputs,\n",
        "                               kernel_size = kernel_size,stride = stride, padding = padding, dilation =dilation)\n",
        "        self.activation1 =nn.ReLU()\n",
        "        self.dropout1 = nn.Dropout(dropout)\n",
        "        \n",
        "        self.conv2 = nn.Conv1d(in_channels = n_outputs,out_channels = n_outputs,\n",
        "                               kernel_size = kernel_size,stride = stride, padding = padding, dilation=dilation)\n",
        "        self.activation2 =nn.ReLU()\n",
        "        self.dropout2 = nn.Dropout(dropout)\n",
        "        \n",
        "        if weight_normalization:\n",
        "            self.conv1 = nn.utils.weight_norm(self.conv1)\n",
        "            self.conv2 = nn.utils.weight_norm(self.conv2)\n",
        "            \n",
        "        if n_inputs != n_outputs:\n",
        "            self.downsample = nn.Conv1d(n_inputs,n_outputs,1)\n",
        "            \n",
        "        self.activation3 = nn.ReLU()\n",
        "        \n",
        "    #padding left of data since pytorch only padds bi-directionally\n",
        "    def forward(self, x):\n",
        "        residuals = x\n",
        "        \n",
        "        #padding for first convnet\n",
        "        left_padding = ((self.dilation)*(self.kernel_size-1))\n",
        "        pad = torch.from_numpy(np.zeros(left_padding*x.shape[0]*x.shape[1]).reshape(x.shape[0],self.n_inputs,left_padding).astype('float32'))\n",
        "        x = torch.cat((pad,x),2) #concat along input width aka time\n",
        "        \n",
        "        output = self.conv1(x)\n",
        "        output = self.activation1(output)\n",
        "        output = self.dropout1(output)\n",
        "     \n",
        "        \n",
        "        #print('conv 2')\n",
        "        #print('original input shape: ', output.shape)\n",
        "        #conv2\n",
        "        left_padding2 = ((self.dilation)*(self.kernel_size-1))#(2**self.dilation*(self.kernel_size-1)) #<- original\n",
        "        #need extra padding across out channels\n",
        "        pad2 = torch.from_numpy(np.zeros(left_padding2*output.shape[0]*output.shape[1]).reshape(output.shape[0]\n",
        "                                                                    ,self.n_outputs,left_padding2).astype('float32'))\n",
        "\n",
        "        output = torch.cat((pad2,output),2) #concat along input width aka time     \n",
        "        \n",
        "        output = self.conv2(output)\n",
        "        output = self.activation2(output)\n",
        "        output = self.dropout2(output)\n",
        "        \n",
        "        #if input channels and output channels are of different size use a 1D conv with kernel 1    \n",
        "\n",
        "        if self.n_inputs != self.n_outputs:\n",
        "            residuals = self.downsample(residuals)\n",
        "\n",
        "        return self.activation3(output + residuals)"
      ],
      "execution_count": 3,
      "outputs": []
    },
    {
      "cell_type": "code",
      "metadata": {
        "id": "UgfCyQ9gjni3"
      },
      "source": [
        "class TemporalConvolutionalNet(nn.Module):\n",
        "    def __init__(self, num_inputs, num_channels, kernel_size=3, dropout=0.2, weight_norm = True):\n",
        "        super(TemporalConvolutionalNet, self).__init__()\n",
        "        layers = []\n",
        "        num_levels= len(num_channels)\n",
        "        for i in range(num_levels):\n",
        "            dilation_size = 2**i\n",
        "            if i==0:\n",
        "                input_channels = num_inputs\n",
        "            else:\n",
        "                input_channels = num_channels[i-1]\n",
        "            out_channels = num_channels[i]\n",
        "            layers+=[Residual_Block(n_inputs = input_channels, n_outputs = out_channels,kernel_size = kernel_size,\n",
        "                                    stride=1, dilation = dilation_size,padding = 0, dropout = dropout)]\n",
        "        print('layers')\n",
        "        for j in layers:\n",
        "            print(j.n_inputs,j.n_outputs)\n",
        "        self.network = nn.Sequential(*layers)\n",
        "        \n",
        "    def forward(self, x):\n",
        "        return self.network(x)"
      ],
      "execution_count": 4,
      "outputs": []
    },
    {
      "cell_type": "code",
      "metadata": {
        "id": "mnxB0jDx69Xl"
      },
      "source": [
        "'''\n",
        "RSI = 100 – 100 / ( 1 + RS )\n",
        "RS = Relative Strength = Avg_gain / Avg_Loss\n",
        "Avg_gain = average of all up moves in the last N price \n",
        "Avg_Loss = average of all down moves in the last N price \n",
        "N = the window of RSI\n",
        "'''\n",
        "#taken for stack overflow dont forget to put credits \n",
        "def average_gainloss(series, window_size, average):\n",
        "    a = (window_size-1) / window_size\n",
        "    ak = a**np.arange(len(series)-1, -1, -1) #arange in descending order\n",
        "    return np.append(average, np.cumsum(ak * series) / ak / window_size + average * a**np.arange(1, len(series)+1))\n",
        "\n",
        "\n",
        "def rsi(df, window_size = 14):\n",
        "\n",
        "    df['change'] = df['close'].diff()\n",
        "    df['gain'] = df.change.mask(df.change < 0, 0.0)\n",
        "    df['loss'] = -df.change.mask(df.change > 0, -0.0)\n",
        "    df.loc[window_size:,'avg_gain'] = average_gainloss( df.gain[window_size+1:].values, window_size, df.loc[:window_size, 'gain'].mean())\n",
        "    df.loc[window_size:,'avg_loss'] = average_gainloss( df.loss[window_size+1:].values, window_size, df.loc[:window_size, 'loss'].mean())\n",
        "    df['rs'] = df.avg_gain / df.avg_loss\n",
        "    df['rsi'] = 100 - (100 / (1 + df.rs))\n",
        "    \n",
        "    return df\n",
        "   "
      ],
      "execution_count": 6,
      "outputs": []
    },
    {
      "cell_type": "code",
      "metadata": {
        "id": "BZMbY8BaOFXm"
      },
      "source": [
        "def mulitvariate_preprocessing(num_features,time_steps, df, num_predictions, sampling_method):\n",
        "    '''\n",
        "    Ex:\n",
        "    num_predictions = 2\n",
        "    input : t1,t2,t3,t4,t5\n",
        "    target : t3,t4,t5,t6,t7\n",
        "    predictions = t6,t7\n",
        "    sampling method: either you push the sliding window along the data or you jump ie select sample [0,timestep],[timestep,2*timstep] etc..\n",
        "    \n",
        "    '''  \n",
        "    \n",
        "    sampling_index = 0\n",
        "    end_sampling_index = time_steps\n",
        "\n",
        "    #set final subsampling shape Temp array to append actual data in the right shape\n",
        "    temp = np.arange(time_steps) \n",
        "    for i in range(num_features-1):\n",
        "        temp = np.vstack((temp,np.arange(time_steps))) #end of for loop you get 4 depth,20  input length shape\n",
        "    temp = np.vstack(([temp],[temp])) #shape (2,4,20) or (samples, channels/features, time length)\n",
        "\n",
        "\n",
        "    train_Set = df.iloc[sampling_index:end_sampling_index, [0]].to_numpy().flatten() #first time_steps samples\n",
        "    #print(train_Set)\n",
        "        \n",
        "    if sampling_method == 'sliding_window':\n",
        "        \n",
        "        \n",
        "        target_start = num_predictions  #retrieve t+1\n",
        "        target_end = target_start + time_steps\n",
        "        y_train = df.iloc[target_start:target_end, [0]].to_numpy().flatten() #first target samples\n",
        "\n",
        "        \n",
        "        for i in range((df.shape[0]-num_predictions-time_steps)+num_predictions): #loop of data to generate samples\n",
        "  \n",
        "            for i in range(1,num_features): #loop to iterate over features for x\n",
        "               \n",
        "                train_Set = np.vstack((train_Set,\n",
        "                                   df.iloc[sampling_index:end_sampling_index, [i]].to_numpy().flatten()))\n",
        "                \n",
        "            #print('x',train_Set[0:1,])\n",
        "            \n",
        "            sampling_index += num_predictions\n",
        "            end_sampling_index += num_predictions\n",
        "            \n",
        "            target_start += num_predictions\n",
        "            target_end += num_predictions\n",
        "            \n",
        "                \n",
        "            temp = np.vstack((temp,[train_Set])) #shape n, feature,time length\n",
        "            train_Set = df.iloc[sampling_index:end_sampling_index, [0]].to_numpy().flatten() #reset to get shape 20, -> array of sub-sampled prices\n",
        "            \n",
        "            if target_end > df.shape[0]:\n",
        "                break #error checking condition\n",
        "            #y-value\n",
        "            y_train = np.vstack((y_train,\n",
        "                                        df.iloc[target_start:target_end, [0]].to_numpy().flatten()))\n",
        "\n",
        "        y_train = y_train.reshape(-1,1,time_steps).astype('float32') #reshape to sample, 1 ,timesteps\n",
        "            \n",
        "            \n",
        "    else:\n",
        "        #jumping by timesteps\n",
        "        \n",
        "        for i in range(int(df.shape[0])//time_steps):\n",
        "            for i in range(1,num_features): #loop to iterate over features for x\n",
        "\n",
        "                train_Set = np.vstack((train_Set,\n",
        "                                       df.iloc[sampling_index:end_sampling_index, [i]].to_numpy().flatten()))\n",
        "                \n",
        "            #print('x',train_Set[0:1,])\n",
        "            sampling_index += time_steps\n",
        "            end_sampling_index += time_steps\n",
        "            \n",
        "            temp = np.vstack((temp,[train_Set])) #shape n, feature,time length\n",
        "            train_Set = df.iloc[sampling_index:end_sampling_index, [0]].to_numpy().flatten() #reset to get shape 20, -> array of sub-sampled prices\n",
        "    \n",
        "\n",
        "        y_train = df['close'].tail(df.shape[0]-num_predictions) # last n - num_prediction values\n",
        "        y_train = y_train.to_numpy().flatten().reshape(-1,1,time_steps).astype('float32')    \n",
        "        \n",
        "   \n",
        "    \n",
        "    print('Finish resampling')\n",
        "    \n",
        "    temp = temp[2:,:,:].astype('float32')\n",
        "      \n",
        "    #print('x',temp.shape)#nice shape is good\n",
        "    #print(temp[:1,:,:])#check subsample for proper format\n",
        "    #print('y',y_train.shape)\n",
        "    \n",
        "    X_train_torch = torch.from_numpy(temp)\n",
        "    \n",
        "    y__train_torch = torch.from_numpy(y_train) # n_Samples x 1 x temporal length\n",
        "    \n",
        "    return X_train_torch, y__train_torch"
      ],
      "execution_count": 7,
      "outputs": []
    },
    {
      "cell_type": "code",
      "metadata": {
        "id": "ERP2d3uzCdz2",
        "colab": {
          "base_uri": "https://localhost:8080/"
        },
        "outputId": "ad0fb611-5c8d-4cf8-ff5c-9efa7d8313c3"
      },
      "source": [
        "############# Any forecast size >1 is multi-step/ horizon forecasting. due to the nature of the data\n",
        "############## And the volatility this can lead to unaccurate predictions, therefore we need a recursive forecasting\n",
        "###Method as well for when forecast_size = 5\n",
        "window_size = 14\n",
        "time_steps= 20 #input length\n",
        "forecast_size = 1  #shift in y target as well\n",
        "np.set_printoptions(suppress=True)\n",
        "training_sample_size = 400\n",
        "validation_sample_size = 100\n",
        "test_sample_size = 50 #for sliding window this is the number of sample you can predict, test_sample_size/forecast_size\n",
        "#ie for sliding window size if forecast_size =1 -> there are 10 extra sample size, if slioding window = 2, there would be 5 extra samples\n",
        "#for jump, this would need to be a multiple of timesteps\n",
        "sampling_Style = 'sliding_window' # sliding_window or jump\n",
        "\n",
        "\n",
        "sample = df[['date','close']][:660] #need to ensure extra data for y-target series forecasting\n",
        "sample['date']= pd.to_datetime(sample['date'], format ='%Y-%m-%d %H:%M:%S' ) #convert string to date time\n",
        "sample['dayofweek']= sample['date'].dt.dayofweek\n",
        "sample['std'] = sample['close'].pct_change()*100\n",
        "\n",
        "sample_rsi = rsi(sample, window_size)\n",
        "\n",
        "sample_rsi = sample_rsi.set_index('date')\n",
        "start_index =((sample.shape[0]-window_size)%time_steps + window_size)\n",
        "sample_rsi = sample_rsi[start_index:]#cutoff NaN\n",
        "sample_rsi = sample_rsi[['close','dayofweek','rsi','std']]  # predicting feature should be in column index 0\n",
        "\n",
        "num_features = sample_rsi.shape[1]\n",
        "\n",
        "training_cutoff = training_sample_size + forecast_size \n",
        "validation_cutoff = time_steps + training_cutoff + validation_sample_size + forecast_size\n",
        "testing_cutoff = time_steps + validation_cutoff  + forecast_size\n",
        "forecast_testing_cut = testing_cutoff + test_sample_size\n",
        "\n",
        "train = sample_rsi[:training_cutoff]\n",
        "val = sample_rsi[training_cutoff:validation_cutoff]\n",
        "testing = sample_rsi[validation_cutoff:testing_cutoff]\n",
        "forecast = sample_rsi[validation_cutoff:forecast_testing_cut]\n",
        "\n",
        "\n",
        "X_train, y_train = mulitvariate_preprocessing(num_features,time_steps,train,forecast_size,'sliding_window' ) #or jump\n",
        "\n",
        "X_val, y_val = mulitvariate_preprocessing(num_features,time_steps,val, forecast_size,'sliding_window')\n",
        "\n",
        "X_test, y_test = mulitvariate_preprocessing(num_features,time_steps,testing, forecast_size,'sliding_window')\n",
        "\n",
        "X_fore, y_fore = mulitvariate_preprocessing(num_features,time_steps,forecast, forecast_size,'sliding_window')\n",
        "\n",
        "\n",
        "print('Test data size, x-shape, y - shape: ', training_cutoff, X_train.shape, y_train.shape)\n",
        "print('Validation data size, x-shape, y - shape: ',  validation_cutoff - training_cutoff, X_val.shape, y_val.shape )\n",
        "print('Test data size, x-shape, y - shape: ', testing_cutoff - validation_cutoff, X_test.shape, y_test.shape )\n",
        "print('Forecast data size, x-shape, y - shape: ', forecast_testing_cut - validation_cutoff, X_fore.shape, y_fore.shape )"
      ],
      "execution_count": 8,
      "outputs": [
        {
          "output_type": "stream",
          "text": [
            "Finish resampling\n",
            "Finish resampling\n",
            "Finish resampling\n",
            "Finish resampling\n",
            "Test data size, x-shape, y - shape:  401 torch.Size([381, 4, 20]) torch.Size([381, 1, 20])\n",
            "Validation data size, x-shape, y - shape:  121 torch.Size([101, 4, 20]) torch.Size([101, 1, 20])\n",
            "Test data size, x-shape, y - shape:  21 torch.Size([1, 4, 20]) torch.Size([1, 1, 20])\n",
            "Forecast data size, x-shape, y - shape:  71 torch.Size([51, 4, 20]) torch.Size([51, 1, 20])\n"
          ],
          "name": "stdout"
        }
      ]
    },
    {
      "cell_type": "code",
      "metadata": {
        "colab": {
          "base_uri": "https://localhost:8080/"
        },
        "id": "5POUBBwR5XjS",
        "outputId": "cc7dcf34-19b0-42b5-f743-2fa80dc2ae23"
      },
      "source": [
        "in_channels = num_features\n",
        "out_channel = 1\n",
        "filter_size = 3\n",
        "#receptive field = 1 + 2*(kernel_size -1)*(dilation_base^n -1) where n is the nth layer, so we need to solve for n\n",
        "num_layers = math.ceil(math.log((X_train.shape[2]-1)/(2*(filter_size - 1))+1,2))\n",
        "channels = [2,out_channel]\n",
        "print('Current layers', len(channels))\n",
        "if len(channels) != num_layers:\n",
        "    print('You should not have more than {} residual layers or else model will be equivalent to RNN'.format(num_layers))"
      ],
      "execution_count": 9,
      "outputs": [
        {
          "output_type": "stream",
          "text": [
            "Current layers 2\n",
            "You should not have more than 3 residual layers or else model will be equivalent to RNN\n"
          ],
          "name": "stdout"
        }
      ]
    },
    {
      "cell_type": "code",
      "metadata": {
        "id": "Ef6gc-fb5its"
      },
      "source": [
        ""
      ],
      "execution_count": 19,
      "outputs": []
    },
    {
      "cell_type": "code",
      "metadata": {
        "id": "-gXIbsOJ7eLc"
      },
      "source": [
        "import optuna"
      ],
      "execution_count": 10,
      "outputs": []
    },
    {
      "cell_type": "code",
      "metadata": {
        "id": "2eX5Ott57hat"
      },
      "source": [
        "def objective(trial):\n",
        " \n",
        "  model = TemporalConvolutionalNet(in_channels,channels,kernel_size = filter_size,dropout=0.2,weight_norm=True)\n",
        "  # Invoke suggest methods of a Trial object to generate hyperparameters.\n",
        "  optimizer_name = trial.suggest_categorical('optimizer', ['AdamW', 'Adam', 'RMSprop', 'Rprop', 'ASGD'])\n",
        "  # Loguniform parameter\n",
        "  learning_rate = trial.suggest_loguniform('learning_rate', 1e-5, 1e-2)\n",
        "  optimizer = getattr(torch.optim,optimizer_name)(model.parameters(),lr=learning_rate)\n",
        "\n",
        "  loss = torch.nn.MSELoss()\n",
        "  \n",
        "  model.train()\n",
        "  num_epoch = 500\n",
        "  X_train, y_train = mulitvariate_preprocessing(num_features,time_steps,train,forecast_size,'sliding_window' ) #or jump\n",
        "  X_val, y_val = mulitvariate_preprocessing(num_features,time_steps,val, forecast_size,'sliding_window')\n",
        "  for epoch in range(1, num_epoch):\n",
        "    y_pred = model(X_train)                   # Make predictions (final-layer activations)\n",
        "    loss_value = loss(y_pred, y_train)                 # Compute loss with respect to predictions\n",
        "    #print(y_pred)\n",
        "    \n",
        "    model.zero_grad()                   # Reset all gradient accumulators to zero (PyTorch thing)\n",
        "    loss_value.backward()                        # Compute gradient of loss wrt all parameters (backprop!)\n",
        "    optimizer.step()                    # Use the gradients to take a step with SGD.\n",
        "        \n",
        "    #print(\"Epoch %d final had loss %.4f\" % (epoch+1, loss_value.item()))\n",
        "    model.eval()\n",
        "    \n",
        "    validation_loss = []\n",
        "    with torch.no_grad():\n",
        "      model.eval() #stops dropout\n",
        "      for i in range(X_val.shape[0]):\n",
        "        x_input = X_val[i:i+1,:,:]\n",
        "        y_target = y_val[i:i+1,:,:]\n",
        "        y_hat = model(x_input)                   \n",
        "        val_loss = loss(y_hat, y_target)\n",
        "        validation_loss.append(val_loss.item())\n",
        "  print('average validaiton loss :', np.mean(np.array(validation_loss))) \n",
        "    #return error # An objective value linked with the Trial object.\n",
        "  return np.mean(np.array(validation_loss))"
      ],
      "execution_count": 11,
      "outputs": []
    },
    {
      "cell_type": "code",
      "metadata": {
        "colab": {
          "base_uri": "https://localhost:8080/"
        },
        "id": "C2SOpprK95Ki",
        "outputId": "78aacc46-6f2c-494c-c82d-5b3ec4c7e8ad"
      },
      "source": [
        "study = optuna.create_study()  # Create a new study.\n",
        "study.optimize(objective, n_trials=10)  # Invoke optimization of the objective function.\n",
        "#print(study.best_params)\n",
        "print(study.best_trial)"
      ],
      "execution_count": 12,
      "outputs": [
        {
          "output_type": "stream",
          "text": [
            "\u001b[32m[I 2020-12-06 05:27:07,930]\u001b[0m A new study created in memory with name: no-name-f5e9dc09-d1b8-4d7c-be48-9de347c54f33\u001b[0m\n"
          ],
          "name": "stderr"
        },
        {
          "output_type": "stream",
          "text": [
            "layers\n",
            "4 2\n",
            "2 1\n",
            "Finish resampling\n",
            "Finish resampling\n"
          ],
          "name": "stdout"
        },
        {
          "output_type": "stream",
          "text": [
            "\u001b[32m[I 2020-12-06 05:27:55,536]\u001b[0m Trial 0 finished with value: 98274.50742574257 and parameters: {'optimizer': 'Adam', 'learning_rate': 1.3468467309151396e-05}. Best is trial 0 with value: 98274.50742574257.\u001b[0m\n"
          ],
          "name": "stderr"
        },
        {
          "output_type": "stream",
          "text": [
            "average validaiton loss : 98274.50742574257\n",
            "layers\n",
            "4 2\n",
            "2 1\n",
            "Finish resampling\n",
            "Finish resampling\n"
          ],
          "name": "stdout"
        },
        {
          "output_type": "stream",
          "text": [
            "\u001b[32m[I 2020-12-06 05:28:45,377]\u001b[0m Trial 1 finished with value: 1401.8928769555423 and parameters: {'optimizer': 'Rprop', 'learning_rate': 0.0001601334489247165}. Best is trial 1 with value: 1401.8928769555423.\u001b[0m\n"
          ],
          "name": "stderr"
        },
        {
          "output_type": "stream",
          "text": [
            "average validaiton loss : 1401.8928769555423\n",
            "layers\n",
            "4 2\n",
            "2 1\n",
            "Finish resampling\n",
            "Finish resampling\n"
          ],
          "name": "stdout"
        },
        {
          "output_type": "stream",
          "text": [
            "\u001b[32m[I 2020-12-06 05:29:32,189]\u001b[0m Trial 2 finished with value: 47725.66932240099 and parameters: {'optimizer': 'RMSprop', 'learning_rate': 5.7540710500445846e-05}. Best is trial 1 with value: 1401.8928769555423.\u001b[0m\n"
          ],
          "name": "stderr"
        },
        {
          "output_type": "stream",
          "text": [
            "average validaiton loss : 47725.66932240099\n",
            "layers\n",
            "4 2\n",
            "2 1\n",
            "Finish resampling\n",
            "Finish resampling\n"
          ],
          "name": "stdout"
        },
        {
          "output_type": "stream",
          "text": [
            "\u001b[32m[I 2020-12-06 05:30:19,503]\u001b[0m Trial 3 finished with value: 514.6020764643603 and parameters: {'optimizer': 'Adam', 'learning_rate': 0.000951901678033251}. Best is trial 3 with value: 514.6020764643603.\u001b[0m\n"
          ],
          "name": "stderr"
        },
        {
          "output_type": "stream",
          "text": [
            "average validaiton loss : 514.6020764643603\n",
            "layers\n",
            "4 2\n",
            "2 1\n",
            "Finish resampling\n",
            "Finish resampling\n"
          ],
          "name": "stdout"
        },
        {
          "output_type": "stream",
          "text": [
            "\u001b[32m[I 2020-12-06 05:31:07,187]\u001b[0m Trial 4 finished with value: 42.606706808109095 and parameters: {'optimizer': 'Adam', 'learning_rate': 0.004907022477892957}. Best is trial 4 with value: 42.606706808109095.\u001b[0m\n"
          ],
          "name": "stderr"
        },
        {
          "output_type": "stream",
          "text": [
            "average validaiton loss : 42.606706808109095\n",
            "layers\n",
            "4 2\n",
            "2 1\n",
            "Finish resampling\n",
            "Finish resampling\n"
          ],
          "name": "stdout"
        },
        {
          "output_type": "stream",
          "text": [
            "\u001b[32m[I 2020-12-06 05:31:55,666]\u001b[0m Trial 5 finished with value: 1401.8950174161703 and parameters: {'optimizer': 'Rprop', 'learning_rate': 0.0005344924007554208}. Best is trial 4 with value: 42.606706808109095.\u001b[0m\n"
          ],
          "name": "stderr"
        },
        {
          "output_type": "stream",
          "text": [
            "average validaiton loss : 1401.8950174161703\n",
            "layers\n",
            "4 2\n",
            "2 1\n",
            "Finish resampling\n",
            "Finish resampling\n"
          ],
          "name": "stdout"
        },
        {
          "output_type": "stream",
          "text": [
            "\u001b[32m[I 2020-12-06 05:32:44,964]\u001b[0m Trial 6 finished with value: 9.02268945344604 and parameters: {'optimizer': 'Rprop', 'learning_rate': 0.004699301199851891}. Best is trial 6 with value: 9.02268945344604.\u001b[0m\n"
          ],
          "name": "stderr"
        },
        {
          "output_type": "stream",
          "text": [
            "average validaiton loss : 9.02268945344604\n",
            "layers\n",
            "4 2\n",
            "2 1\n",
            "Finish resampling\n",
            "Finish resampling\n"
          ],
          "name": "stdout"
        },
        {
          "output_type": "stream",
          "text": [
            "\u001b[32m[I 2020-12-06 05:33:32,080]\u001b[0m Trial 7 finished with value: 97760.66947710396 and parameters: {'optimizer': 'AdamW', 'learning_rate': 0.000985532757552901}. Best is trial 6 with value: 9.02268945344604.\u001b[0m\n"
          ],
          "name": "stderr"
        },
        {
          "output_type": "stream",
          "text": [
            "average validaiton loss : 97760.66947710396\n",
            "layers\n",
            "4 2\n",
            "2 1\n",
            "Finish resampling\n",
            "Finish resampling\n"
          ],
          "name": "stdout"
        },
        {
          "output_type": "stream",
          "text": [
            "\u001b[32m[I 2020-12-06 05:34:20,022]\u001b[0m Trial 8 finished with value: 3657.1866660543005 and parameters: {'optimizer': 'AdamW', 'learning_rate': 0.00026896670576222854}. Best is trial 6 with value: 9.02268945344604.\u001b[0m\n"
          ],
          "name": "stderr"
        },
        {
          "output_type": "stream",
          "text": [
            "average validaiton loss : 3657.1866660543005\n",
            "layers\n",
            "4 2\n",
            "2 1\n",
            "Finish resampling\n",
            "Finish resampling\n"
          ],
          "name": "stdout"
        },
        {
          "output_type": "stream",
          "text": [
            "\u001b[32m[I 2020-12-06 05:35:06,987]\u001b[0m Trial 9 finished with value: 98274.50742574257 and parameters: {'optimizer': 'AdamW', 'learning_rate': 0.003195185109271419}. Best is trial 6 with value: 9.02268945344604.\u001b[0m\n"
          ],
          "name": "stderr"
        },
        {
          "output_type": "stream",
          "text": [
            "average validaiton loss : 98274.50742574257\n",
            "FrozenTrial(number=6, value=9.02268945344604, datetime_start=datetime.datetime(2020, 12, 6, 5, 31, 55, 667150), datetime_complete=datetime.datetime(2020, 12, 6, 5, 32, 44, 964086), params={'optimizer': 'Rprop', 'learning_rate': 0.004699301199851891}, distributions={'optimizer': CategoricalDistribution(choices=('AdamW', 'Adam', 'RMSprop', 'Rprop', 'ASGD')), 'learning_rate': LogUniformDistribution(high=0.01, low=1e-05)}, user_attrs={}, system_attrs={}, intermediate_values={}, trial_id=6, state=TrialState.COMPLETE)\n"
          ],
          "name": "stdout"
        }
      ]
    },
    {
      "cell_type": "code",
      "metadata": {
        "id": "6IAe2VhbkuQg"
      },
      "source": [
        "#optimizer': 'Rprop', 'learning_rate': 0.0004053772530651773"
      ],
      "execution_count": 18,
      "outputs": []
    },
    {
      "cell_type": "code",
      "metadata": {
        "colab": {
          "base_uri": "https://localhost:8080/"
        },
        "id": "ghks11lMDT4L",
        "outputId": "0c9581c6-c373-467e-e8a8-c8839b0a6c21"
      },
      "source": [
        "# The number of times to evaluate the full training data (in this case, number of gradient steps)\n",
        "num_epoch = 500\n",
        "model_ = TemporalConvolutionalNet(in_channels,channels,kernel_size = filter_size,dropout=0.2,weight_norm=True)\n",
        "loss = torch.nn.MSELoss()\n",
        "# Use stochastic gradient descent to train the model\n",
        "optimizer = torch.optim.Rprop(model_.parameters(), lr=0.004699301199851891)\n",
        "'''\n",
        "########################################################## \n",
        "beta is first and second order moments, basically the speed and momentum \n",
        "the sharpness of the the movements and how far the move(shifting of the curve up and down)\n",
        "optimizer = torch.optim.Adam(model.parameters(), lr=0.035, betas=(0.35,0.25), weight_decay=0.25)\n",
        "layers\n",
        "4 2\n",
        "2 1\n",
        "'''\n",
        "for epoch in range(1, num_epoch): \n",
        "    \n",
        "  y_pred = model_(X_train)                   # Make predictions (final-layer activations)\n",
        "  loss_value = loss(y_pred, y_train)                 # Compute loss with respect to predictions\n",
        "  #print(y_pred)\n",
        "\n",
        "  model_.zero_grad()                   # Reset all gradient accumulators to zero (PyTorch thing)\n",
        "  loss_value.backward()                        # Compute gradient of loss wrt all parameters (backprop!)\n",
        "  optimizer.step()                    # Use the gradients to take a step with SGD.\n",
        "        \n",
        "print(\"Epoch %d final had loss %.4f\" % (epoch+1, loss_value.item()))"
      ],
      "execution_count": 13,
      "outputs": [
        {
          "output_type": "stream",
          "text": [
            "layers\n",
            "4 2\n",
            "2 1\n",
            "Epoch 500 final minibatch had loss 6.7009\n"
          ],
          "name": "stdout"
        }
      ]
    },
    {
      "cell_type": "code",
      "metadata": {
        "colab": {
          "base_uri": "https://localhost:8080/",
          "height": 314
        },
        "id": "zqJK5uHzlUJU",
        "outputId": "eebe5f99-2042-461e-c27a-ff81468cbe8c"
      },
      "source": [
        "validation_loss = []\n",
        "with torch.no_grad():\n",
        "    model_.eval() #stops dropout\n",
        "    for i in range(X_val.shape[0]):\n",
        "        x_input = X_val[i:i+1,:,:]\n",
        "        y_target = y_val[i:i+1,:,:]\n",
        "        \n",
        "        y_hat = model_(x_input)                   \n",
        "        val_loss = loss(y_hat, y_target)\n",
        "        validation_loss.append(val_loss.item())\n",
        "        \n",
        "print('average validaiton loss :', np.mean(np.array(validation_loss)))\n",
        "plt.plot(np.arange(len(validation_loss)),validation_loss,label='Loss')\n",
        "plt.title('Validation Loss')"
      ],
      "execution_count": 14,
      "outputs": [
        {
          "output_type": "stream",
          "text": [
            "average validaiton loss : 11.051003026490164\n"
          ],
          "name": "stdout"
        },
        {
          "output_type": "execute_result",
          "data": {
            "text/plain": [
              "Text(0.5, 1.0, 'Validation Loss')"
            ]
          },
          "metadata": {
            "tags": []
          },
          "execution_count": 14
        },
        {
          "output_type": "display_data",
          "data": {
            "image/png": "[encoded data removed]",
            "text/plain": [
              "<Figure size 432x288 with 1 Axes>"
            ]
          },
          "metadata": {
            "tags": [],
            "needs_background": "light"
          }
        }
      ]
    },
    {
      "cell_type": "code",
      "metadata": {
        "colab": {
          "base_uri": "https://localhost:8080/"
        },
        "id": "V1qd5_XJlX7R",
        "outputId": "2d719851-099d-495f-b079-2bc7ef3f4b63"
      },
      "source": [
        "model_.eval()\n",
        "forecasted = []\n",
        "for sample in range(X_fore.shape[0]):\n",
        "    sample_input = X_fore[sample:sample+1,:,:]\n",
        "    y_pred_fore = model_(sample_input)\n",
        "    print(X_fore[sample:sample+1,0:1,:])\n",
        "    print(y_pred_fore)\n",
        "    y_pred_fore_val = y_pred_fore.detach().numpy().reshape(-1) # entirety of model ouput in 1D array\n",
        "    y_fore_hat = y_pred_fore_val[y_pred_fore.shape[2]-forecast_size:] # forcasted aka shifted y, take last forecast_size elements\n",
        "    forecasted.append(y_fore_hat[0])\n",
        "    print(y_fore_hat)\n",
        "    "
      ],
      "execution_count": 15,
      "outputs": [
        {
          "output_type": "stream",
          "text": [
            "tensor([[[296.2600, 309.0900, 300.2400, 312.8600, 302.4600, 297.4600, 274.2300,\n",
            "          288.4200, 274.3600, 248.1100, 269.3200, 239.8500, 252.8000, 240.0000,\n",
            "          240.5100, 228.8000, 222.9500, 243.1500, 246.7900, 261.2000]]])\n",
            "tensor([[[295.5352, 308.2050, 298.6119, 309.7364, 299.9129, 295.0651, 275.6481,\n",
            "          286.4993, 274.2622, 251.4241, 268.1603, 243.0930, 256.1805, 242.5055,\n",
            "          242.9831, 231.4538, 228.4230, 244.3334, 248.6367, 261.2863]]],\n",
            "       grad_fn=<ReluBackward0>)\n",
            "[261.28625]\n",
            "tensor([[[309.0900, 300.2400, 312.8600, 302.4600, 297.4600, 274.2300, 288.4200,\n",
            "          274.3600, 248.1100, 269.3200, 239.8500, 252.8000, 240.0000, 240.5100,\n",
            "          228.8000, 222.9500, 243.1500, 246.7900, 261.2000, 253.4200]]])\n",
            "tensor([[[308.2106, 297.9893, 309.8205, 299.9129, 295.0651, 275.6481, 286.4993,\n",
            "          274.2091, 251.4241, 268.1603, 243.0930, 256.1805, 242.5055, 242.9831,\n",
            "          231.4538, 228.4230, 244.3334, 248.6367, 261.2863, 254.6913]]],\n",
            "       grad_fn=<ReluBackward0>)\n",
            "[254.69133]\n",
            "tensor([[[300.2400, 312.8600, 302.4600, 297.4600, 274.2300, 288.4200, 274.3600,\n",
            "          248.1100, 269.3200, 239.8500, 252.8000, 240.0000, 240.5100, 228.8000,\n",
            "          222.9500, 243.1500, 246.7900, 261.2000, 253.4200, 261.6500]]])\n",
            "tensor([[[299.8899, 309.4746, 300.3780, 295.0651, 275.6481, 286.4993, 274.2091,\n",
            "          251.3673, 268.1603, 243.0930, 256.1805, 242.5055, 242.9831, 231.4538,\n",
            "          228.4230, 244.3334, 248.6367, 261.2863, 254.6913, 263.7888]]],\n",
            "       grad_fn=<ReluBackward0>)\n",
            "[263.78885]\n",
            "tensor([[[312.8600, 302.4600, 297.4600, 274.2300, 288.4200, 274.3600, 248.1100,\n",
            "          269.3200, 239.8500, 252.8000, 240.0000, 240.5100, 228.8000, 222.9500,\n",
            "          243.1500, 246.7900, 261.2000, 253.4200, 261.6500, 257.7500]]])\n",
            "tensor([[[309.2566, 299.9129, 295.0651, 275.6481, 286.4993, 274.2091, 251.3673,\n",
            "          268.1034, 243.0930, 256.1805, 242.5055, 242.9831, 231.4538, 228.4230,\n",
            "          244.3334, 248.6367, 261.2863, 254.6913, 263.7888, 259.1422]]],\n",
            "       grad_fn=<ReluBackward0>)\n",
            "[259.1422]\n",
            "tensor([[[302.4600, 297.4600, 274.2300, 288.4200, 274.3600, 248.1100, 269.3200,\n",
            "          239.8500, 252.8000, 240.0000, 240.5100, 228.8000, 222.9500, 243.1500,\n",
            "          246.7900, 261.2000, 253.4200, 261.6500, 257.7500, 246.1500]]])\n",
            "tensor([[[299.9129, 294.8683, 275.6164, 286.4393, 274.2091, 251.3673, 268.1034,\n",
            "          243.0361, 256.1805, 242.5055, 242.9831, 231.4538, 228.4230, 244.3334,\n",
            "          248.6367, 261.2863, 254.6913, 263.7888, 259.1422, 248.5744]]],\n",
            "       grad_fn=<ReluBackward0>)\n",
            "[248.57436]\n",
            "tensor([[[297.4600, 274.2300, 288.4200, 274.3600, 248.1100, 269.3200, 239.8500,\n",
            "          252.8000, 240.0000, 240.5100, 228.8000, 222.9500, 243.1500, 246.7900,\n",
            "          261.2000, 253.4200, 261.6500, 257.7500, 246.1500, 251.8300]]])\n",
            "tensor([[[294.8683, 276.0727, 286.4959, 274.3163, 251.3673, 268.1034, 243.0361,\n",
            "          256.1237, 242.5055, 242.9831, 231.4538, 228.4230, 244.3334, 248.6367,\n",
            "          261.2863, 254.6913, 263.7888, 259.1422, 248.5744, 252.9003]]],\n",
            "       grad_fn=<ReluBackward0>)\n",
            "[252.90025]\n",
            "tensor([[[274.2300, 288.4200, 274.3600, 248.1100, 269.3200, 239.8500, 252.8000,\n",
            "          240.0000, 240.5100, 228.8000, 222.9500, 243.1500, 246.7900, 261.2000,\n",
            "          253.4200, 261.6500, 257.7500, 246.1500, 251.8300, 248.1900]]])\n",
            "tensor([[[277.1593, 286.6308, 274.5716, 251.3673, 268.1034, 243.0361, 256.1237,\n",
            "          242.4487, 242.9831, 231.4538, 228.4230, 244.3334, 248.6367, 261.2863,\n",
            "          254.6913, 263.7888, 259.1422, 248.5744, 252.9003, 249.7219]]],\n",
            "       grad_fn=<ReluBackward0>)\n",
            "[249.72186]\n",
            "tensor([[[288.4200, 274.3600, 248.1100, 269.3200, 239.8500, 252.8000, 240.0000,\n",
            "          240.5100, 228.8000, 222.9500, 243.1500, 246.7900, 261.2000, 253.4200,\n",
            "          261.6500, 257.7500, 246.1500, 251.8300, 248.1900, 264.8600]]])\n",
            "tensor([[[287.1509, 273.9225, 251.5843, 268.1034, 243.0361, 256.1237, 242.4487,\n",
            "          242.9262, 231.4538, 228.4230, 244.3334, 248.6367, 261.2863, 254.6913,\n",
            "          263.7888, 259.1422, 248.5744, 252.9003, 249.7219, 265.1628]]],\n",
            "       grad_fn=<ReluBackward0>)\n",
            "[265.16284]\n",
            "tensor([[[274.3600, 248.1100, 269.3200, 239.8500, 252.8000, 240.0000, 240.5100,\n",
            "          228.8000, 222.9500, 243.1500, 246.7900, 261.2000, 253.4200, 261.6500,\n",
            "          257.7500, 246.1500, 251.8300, 248.1900, 264.8600, 265.1300]]])\n",
            "tensor([[[273.8667, 249.5521, 267.9295, 242.6546, 256.1237, 242.4487, 242.9262,\n",
            "          231.3969, 228.4230, 244.3334, 248.6367, 261.2863, 254.6913, 263.7888,\n",
            "          259.1422, 248.5744, 252.9003, 249.7219, 265.1628, 265.9382]]],\n",
            "       grad_fn=<ReluBackward0>)\n",
            "[265.93817]\n",
            "tensor([[[248.1100, 269.3200, 239.8500, 252.8000, 240.0000, 240.5100, 228.8000,\n",
            "          222.9500, 243.1500, 246.7900, 261.2000, 253.4200, 261.6500, 257.7500,\n",
            "          246.1500, 251.8300, 248.1900, 264.8600, 265.1300, 274.0300]]])\n",
            "tensor([[[249.5521, 267.9295, 242.6546, 256.1237, 242.4487, 242.9262, 231.3969,\n",
            "          228.3662, 244.3334, 248.6367, 261.2863, 254.6913, 263.7888, 259.1422,\n",
            "          248.5744, 252.9003, 249.7219, 265.1628, 265.9382, 273.9287]]],\n",
            "       grad_fn=<ReluBackward0>)\n",
            "[273.92874]\n",
            "tensor([[[269.3200, 239.8500, 252.8000, 240.0000, 240.5100, 228.8000, 222.9500,\n",
            "          243.1500, 246.7900, 261.2000, 253.4200, 261.6500, 257.7500, 246.1500,\n",
            "          251.8300, 248.1900, 264.8600, 265.1300, 274.0300, 278.2000]]])\n",
            "tensor([[[267.9295, 242.6546, 256.1237, 242.4487, 242.9262, 231.3969, 228.3662,\n",
            "          244.3334, 248.6367, 261.2863, 254.6913, 263.7888, 259.1422, 248.5744,\n",
            "          252.9003, 249.7219, 265.1628, 265.9382, 273.9287, 277.9310]]],\n",
            "       grad_fn=<ReluBackward0>)\n",
            "[277.93103]\n",
            "tensor([[[239.8500, 252.8000, 240.0000, 240.5100, 228.8000, 222.9500, 243.1500,\n",
            "          246.7900, 261.2000, 253.4200, 261.6500, 257.7500, 246.1500, 251.8300,\n",
            "          248.1900, 264.8600, 265.1300, 274.0300, 278.2000, 275.6600]]])\n",
            "tensor([[[243.2043, 253.2637, 242.2272, 242.2365, 231.3969, 228.3662, 244.3334,\n",
            "          248.6367, 261.2863, 254.6913, 263.7888, 259.1422, 248.5744, 252.9003,\n",
            "          249.7219, 265.1628, 265.9382, 273.9287, 277.9310, 276.1101]]],\n",
            "       grad_fn=<ReluBackward0>)\n",
            "[276.1101]\n",
            "tensor([[[252.8000, 240.0000, 240.5100, 228.8000, 222.9500, 243.1500, 246.7900,\n",
            "          261.2000, 253.4200, 261.6500, 257.7500, 246.1500, 251.8300, 248.1900,\n",
            "          264.8600, 265.1300, 274.0300, 278.2000, 275.6600, 283.7900]]])\n",
            "tensor([[[253.2469, 242.1430, 242.2365, 231.3969, 228.3662, 244.3334, 248.6367,\n",
            "          261.2863, 254.6913, 263.7888, 259.1422, 248.5744, 252.9003, 249.7219,\n",
            "          265.1628, 265.9382, 273.9287, 277.9310, 276.1101, 283.3156]]],\n",
            "       grad_fn=<ReluBackward0>)\n",
            "[283.31558]\n",
            "tensor([[[240.0000, 240.5100, 228.8000, 222.9500, 243.1500, 246.7900, 261.2000,\n",
            "          253.4200, 261.6500, 257.7500, 246.1500, 251.8300, 248.1900, 264.8600,\n",
            "          265.1300, 274.0300, 278.2000, 275.6600, 283.7900, 277.7600]]])\n",
            "tensor([[[242.1430, 241.9978, 231.3969, 228.2963, 244.3334, 248.6367, 261.2863,\n",
            "          254.6913, 263.7888, 259.1422, 248.5744, 252.9002, 249.7219, 265.1628,\n",
            "          265.9382, 273.9287, 277.9310, 276.1101, 283.3156, 277.9437]]],\n",
            "       grad_fn=<ReluBackward0>)\n",
            "[277.94366]\n",
            "tensor([[[240.5100, 228.8000, 222.9500, 243.1500, 246.7900, 261.2000, 253.4200,\n",
            "          261.6500, 257.7500, 246.1500, 251.8300, 248.1900, 264.8600, 265.1300,\n",
            "          274.0300, 278.2000, 275.6600, 283.7900, 277.7600, 279.1000]]])\n",
            "tensor([[[241.9978, 231.3969, 228.2963, 244.3334, 248.6367, 261.2863, 254.6913,\n",
            "          263.7888, 259.1422, 248.5744, 252.9002, 249.7219, 265.1628, 265.9382,\n",
            "          273.9287, 277.9310, 276.1101, 283.3156, 277.9437, 278.8433]]],\n",
            "       grad_fn=<ReluBackward0>)\n",
            "[278.84326]\n",
            "tensor([[[228.8000, 222.9500, 243.1500, 246.7900, 261.2000, 253.4200, 261.6500,\n",
            "          257.7500, 246.1500, 251.8300, 248.1900, 264.8600, 265.1300, 274.0300,\n",
            "          278.2000, 275.6600, 283.7900, 277.7600, 279.1000, 286.6400]]])\n",
            "tensor([[[231.3969, 227.0552, 244.1793, 248.3452, 261.2863, 254.6913, 263.7888,\n",
            "          259.1422, 248.5742, 252.8997, 249.7218, 265.1628, 265.9382, 273.9287,\n",
            "          277.9310, 276.1101, 283.3156, 277.9437, 278.8433, 285.6602]]],\n",
            "       grad_fn=<ReluBackward0>)\n",
            "[285.6602]\n",
            "tensor([[[222.9500, 243.1500, 246.7900, 261.2000, 253.4200, 261.6500, 257.7500,\n",
            "          246.1500, 251.8300, 248.1900, 264.8600, 265.1300, 274.0300, 278.2000,\n",
            "          275.6600, 283.7900, 277.7600, 279.1000, 286.6400, 281.5900]]])\n",
            "tensor([[[226.8637, 244.1555, 248.3002, 261.2863, 254.6913, 263.7888, 259.1422,\n",
            "          248.5452, 252.8996, 249.7218, 265.1628, 265.9382, 273.9287, 277.9310,\n",
            "          276.1101, 283.3156, 277.9437, 278.8433, 285.6602, 281.7456]]],\n",
            "       grad_fn=<ReluBackward0>)\n",
            "[281.7456]\n",
            "tensor([[[243.1500, 246.7900, 261.2000, 253.4200, 261.6500, 257.7500, 246.1500,\n",
            "          251.8300, 248.1900, 264.8600, 265.1300, 274.0300, 278.2000, 275.6600,\n",
            "          283.7900, 277.7600, 279.1000, 286.6400, 281.5900, 273.0400]]])\n",
            "tensor([[[244.1213, 248.1830, 261.2863, 254.6913, 263.7888, 259.1422, 248.5452,\n",
            "          252.8636, 249.7218, 265.1628, 265.9382, 273.9287, 277.9310, 276.1101,\n",
            "          283.3156, 277.9437, 278.8433, 285.6602, 281.7456, 273.6380]]],\n",
            "       grad_fn=<ReluBackward0>)\n",
            "[273.638]\n",
            "tensor([[[246.7900, 261.2000, 253.4200, 261.6500, 257.7500, 246.1500, 251.8300,\n",
            "          248.1900, 264.8600, 265.1300, 274.0300, 278.2000, 275.6600, 283.7900,\n",
            "          277.7600, 279.1000, 286.6400, 281.5900, 273.0400, 279.1000]]])\n",
            "tensor([[[248.1830, 261.2863, 254.6913, 263.7888, 259.1422, 248.5452, 252.8636,\n",
            "          249.6726, 265.1628, 265.9382, 273.9287, 277.9310, 276.1101, 283.3156,\n",
            "          277.9437, 278.8433, 285.6602, 281.7456, 273.6380, 278.7331]]],\n",
            "       grad_fn=<ReluBackward0>)\n",
            "[278.7331]\n",
            "tensor([[[261.2000, 253.4200, 261.6500, 257.7500, 246.1500, 251.8300, 248.1900,\n",
            "          264.8600, 265.1300, 274.0300, 278.2000, 275.6600, 283.7900, 277.7600,\n",
            "          279.1000, 286.6400, 281.5900, 273.0400, 279.1000, 279.0800]]])\n",
            "tensor([[[261.2863, 254.6913, 263.7888, 259.1422, 248.5452, 252.8636, 249.6726,\n",
            "          265.1628, 265.9382, 273.9287, 277.9310, 276.1101, 283.3156, 277.9437,\n",
            "          278.8433, 285.6602, 281.7456, 273.6380, 278.7331, 278.8096]]],\n",
            "       grad_fn=<ReluBackward0>)\n",
            "[278.8096]\n",
            "tensor([[[253.4200, 261.6500, 257.7500, 246.1500, 251.8300, 248.1900, 264.8600,\n",
            "          265.1300, 274.0300, 278.2000, 275.6600, 283.7900, 277.7600, 279.1000,\n",
            "          286.6400, 281.5900, 273.0400, 279.1000, 279.0800, 282.9700]]])\n",
            "tensor([[[254.6913, 262.3561, 259.0158, 248.2536, 252.8636, 249.6726, 265.1628,\n",
            "          265.9382, 273.9287, 277.9310, 276.1101, 283.3156, 277.9437, 278.8433,\n",
            "          285.6602, 281.7456, 273.6380, 278.7331, 278.8096, 282.2597]]],\n",
            "       grad_fn=<ReluBackward0>)\n",
            "[282.25974]\n",
            "tensor([[[261.6500, 257.7500, 246.1500, 251.8300, 248.1900, 264.8600, 265.1300,\n",
            "          274.0300, 278.2000, 275.6600, 283.7900, 277.7600, 279.1000, 286.6400,\n",
            "          281.5900, 273.0400, 279.1000, 279.0800, 282.9700, 287.0500]]])\n",
            "tensor([[[262.3561, 259.0158, 248.2536, 252.8636, 249.6726, 265.1628, 265.9382,\n",
            "          273.9287, 277.9310, 276.1101, 283.3156, 277.9437, 278.8433, 285.6602,\n",
            "          281.7456, 273.6380, 278.7331, 278.8096, 282.2597, 286.6181]]],\n",
            "       grad_fn=<ReluBackward0>)\n",
            "[286.61807]\n",
            "tensor([[[257.7500, 246.1500, 251.8300, 248.1900, 264.8600, 265.1300, 274.0300,\n",
            "          278.2000, 275.6600, 283.7900, 277.7600, 279.1000, 286.6400, 281.5900,\n",
            "          273.0400, 279.1000, 279.0800, 282.9700, 287.0500, 285.7300]]])\n",
            "tensor([[[259.0158, 248.2536, 252.8636, 249.6726, 265.1628, 265.9382, 273.9287,\n",
            "          277.9310, 276.1101, 283.3156, 277.9437, 278.8433, 285.6602, 281.7456,\n",
            "          273.6380, 278.7331, 278.8096, 282.2597, 286.6181, 285.4128]]],\n",
            "       grad_fn=<ReluBackward0>)\n",
            "[285.4128]\n",
            "tensor([[[246.1500, 251.8300, 248.1900, 264.8600, 265.1300, 274.0300, 278.2000,\n",
            "          275.6600, 283.7900, 277.7600, 279.1000, 286.6400, 281.5900, 273.0400,\n",
            "          279.1000, 279.0800, 282.9700, 287.0500, 285.7300, 293.2100]]])\n",
            "tensor([[[248.2536, 252.8636, 249.6726, 265.1628, 265.9382, 273.9287, 277.9310,\n",
            "          276.1101, 283.3156, 277.9437, 278.8433, 285.6602, 281.7456, 273.6380,\n",
            "          278.7331, 278.8096, 282.2597, 286.6181, 285.4128, 292.1212]]],\n",
            "       grad_fn=<ReluBackward0>)\n",
            "[292.12115]\n",
            "tensor([[[251.8300, 248.1900, 264.8600, 265.1300, 274.0300, 278.2000, 275.6600,\n",
            "          283.7900, 277.7600, 279.1000, 286.6400, 281.5900, 273.0400, 279.1000,\n",
            "          279.0800, 282.9700, 287.0500, 285.7300, 293.2100, 290.4800]]])\n",
            "tensor([[[252.8636, 249.6726, 265.1628, 265.9382, 273.9287, 277.9310, 276.1101,\n",
            "          283.3156, 277.9437, 278.8433, 285.6602, 281.7456, 273.6380, 278.7331,\n",
            "          278.8096, 282.2597, 286.6181, 285.4128, 292.1212, 289.7113]]],\n",
            "       grad_fn=<ReluBackward0>)\n",
            "[289.71133]\n",
            "tensor([[[248.1900, 264.8600, 265.1300, 274.0300, 278.2000, 275.6600, 283.7900,\n",
            "          277.7600, 279.1000, 286.6400, 281.5900, 273.0400, 279.1000, 279.0800,\n",
            "          282.9700, 287.0500, 285.7300, 293.2100, 290.4800, 282.7900]]])\n",
            "tensor([[[249.6726, 265.1628, 265.9382, 273.9287, 277.9310, 276.1101, 283.3156,\n",
            "          277.9437, 278.8433, 285.6602, 281.7456, 273.6380, 278.7331, 278.8096,\n",
            "          282.2597, 286.6181, 285.4128, 292.1212, 289.7113, 282.3922]]],\n",
            "       grad_fn=<ReluBackward0>)\n",
            "[282.39224]\n",
            "tensor([[[264.8600, 265.1300, 274.0300, 278.2000, 275.6600, 283.7900, 277.7600,\n",
            "          279.1000, 286.6400, 281.5900, 273.0400, 279.1000, 279.0800, 282.9700,\n",
            "          287.0500, 285.7300, 293.2100, 290.4800, 282.7900, 283.5700]]])\n",
            "tensor([[[265.1628, 265.9382, 273.9287, 277.9310, 276.1101, 283.3156, 277.9437,\n",
            "          278.8433, 285.6602, 281.7456, 273.6380, 278.7331, 278.8096, 282.2597,\n",
            "          286.6181, 285.4128, 292.1212, 289.7113, 282.3922, 283.3175]]],\n",
            "       grad_fn=<ReluBackward0>)\n",
            "[283.31747]\n",
            "tensor([[[265.1300, 274.0300, 278.2000, 275.6600, 283.7900, 277.7600, 279.1000,\n",
            "          286.6400, 281.5900, 273.0400, 279.1000, 279.0800, 282.9700, 287.0500,\n",
            "          285.7300, 293.2100, 290.4800, 282.7900, 283.5700, 286.1900]]])\n",
            "tensor([[[265.9382, 273.9287, 277.9310, 276.1101, 283.3156, 277.9437, 278.8433,\n",
            "          285.6602, 281.7456, 273.6380, 278.7331, 278.8096, 282.2597, 286.6181,\n",
            "          285.4128, 292.1212, 289.7113, 282.3922, 283.3175, 285.6273]]],\n",
            "       grad_fn=<ReluBackward0>)\n",
            "[285.6273]\n",
            "tensor([[[274.0300, 278.2000, 275.6600, 283.7900, 277.7600, 279.1000, 286.6400,\n",
            "          281.5900, 273.0400, 279.1000, 279.0800, 282.9700, 287.0500, 285.7300,\n",
            "          293.2100, 290.4800, 282.7900, 283.5700, 286.1900, 284.2500]]])\n",
            "tensor([[[273.9287, 277.9310, 276.1101, 283.3156, 277.9437, 278.8433, 285.6602,\n",
            "          281.7456, 273.6380, 278.7331, 278.8096, 282.2597, 286.6181, 285.4128,\n",
            "          292.1212, 289.7113, 282.3922, 283.3175, 285.6273, 283.7879]]],\n",
            "       grad_fn=<ReluBackward0>)\n",
            "[283.78793]\n",
            "tensor([[[278.2000, 275.6600, 283.7900, 277.7600, 279.1000, 286.6400, 281.5900,\n",
            "          273.0400, 279.1000, 279.0800, 282.9700, 287.0500, 285.7300, 293.2100,\n",
            "          290.4800, 282.7900, 283.5700, 286.1900, 284.2500, 287.6800]]])\n",
            "tensor([[[277.9310, 276.1101, 283.3156, 277.9437, 278.8433, 285.6602, 281.7456,\n",
            "          273.5963, 278.7331, 278.8096, 282.2597, 286.6181, 285.4128, 292.1212,\n",
            "          289.7113, 282.3922, 283.3175, 285.6273, 283.7879, 286.7819]]],\n",
            "       grad_fn=<ReluBackward0>)\n",
            "[286.78192]\n",
            "tensor([[[275.6600, 283.7900, 277.7600, 279.1000, 286.6400, 281.5900, 273.0400,\n",
            "          279.1000, 279.0800, 282.9700, 287.0500, 285.7300, 293.2100, 290.4800,\n",
            "          282.7900, 283.5700, 286.1900, 284.2500, 287.6800, 292.4400]]])\n",
            "tensor([[[276.1101, 283.3156, 277.9437, 278.8433, 285.6602, 281.7456, 273.5963,\n",
            "          278.7331, 278.8096, 282.2597, 286.6181, 285.4128, 292.1212, 289.7113,\n",
            "          282.3922, 283.3175, 285.6273, 283.7879, 286.7819, 291.1854]]],\n",
            "       grad_fn=<ReluBackward0>)\n",
            "[291.18536]\n",
            "tensor([[[283.7900, 277.7600, 279.1000, 286.6400, 281.5900, 273.0400, 279.1000,\n",
            "          279.0800, 282.9700, 287.0500, 285.7300, 293.2100, 290.4800, 282.7900,\n",
            "          283.5700, 286.1900, 284.2500, 287.6800, 292.4400, 292.5000]]])\n",
            "tensor([[[283.3156, 277.9437, 278.8433, 285.6602, 281.7456, 273.5963, 278.7331,\n",
            "          278.8096, 282.2597, 286.6181, 285.4128, 292.1212, 289.7113, 282.3922,\n",
            "          283.3175, 285.6273, 283.7879, 286.7819, 291.1854, 291.8793]]],\n",
            "       grad_fn=<ReluBackward0>)\n",
            "[291.8793]\n",
            "tensor([[[277.7600, 279.1000, 286.6400, 281.5900, 273.0400, 279.1000, 279.0800,\n",
            "          282.9700, 287.0500, 285.7300, 293.2100, 290.4800, 282.7900, 283.5700,\n",
            "          286.1900, 284.2500, 287.6800, 292.4400, 292.5000, 286.6700]]])\n",
            "tensor([[[277.9437, 278.8433, 285.6602, 281.7456, 273.5963, 278.7331, 278.8096,\n",
            "          282.2597, 286.6181, 285.4128, 292.1212, 289.7113, 282.3922, 283.3175,\n",
            "          285.6273, 283.7879, 286.7819, 291.1854, 291.8793, 286.2807]]],\n",
            "       grad_fn=<ReluBackward0>)\n",
            "[286.28073]\n",
            "tensor([[[279.1000, 286.6400, 281.5900, 273.0400, 279.1000, 279.0800, 282.9700,\n",
            "          287.0500, 285.7300, 293.2100, 290.4800, 282.7900, 283.5700, 286.1900,\n",
            "          284.2500, 287.6800, 292.4400, 292.5000, 286.6700, 281.6000]]])\n",
            "tensor([[[278.8433, 285.6602, 281.7456, 273.5963, 278.7331, 278.8096, 282.2597,\n",
            "          286.6181, 285.4128, 292.1212, 289.7113, 282.3922, 283.3175, 285.6273,\n",
            "          283.7879, 286.7819, 291.1854, 291.8793, 286.2807, 281.2715]]],\n",
            "       grad_fn=<ReluBackward0>)\n",
            "[281.2715]\n",
            "tensor([[[286.6400, 281.5900, 273.0400, 279.1000, 279.0800, 282.9700, 287.0500,\n",
            "          285.7300, 293.2100, 290.4800, 282.7900, 283.5700, 286.1900, 284.2500,\n",
            "          287.6800, 292.4400, 292.5000, 286.6700, 281.6000, 284.9700]]])\n",
            "tensor([[[285.6602, 281.7456, 273.5963, 278.7331, 278.8096, 282.2597, 286.6181,\n",
            "          285.4128, 292.1212, 289.7113, 282.3922, 283.3175, 285.6273, 283.7879,\n",
            "          286.7819, 291.1854, 291.8793, 286.2807, 281.2715, 284.1281]]],\n",
            "       grad_fn=<ReluBackward0>)\n",
            "[284.12808]\n",
            "tensor([[[281.5900, 273.0400, 279.1000, 279.0800, 282.9700, 287.0500, 285.7300,\n",
            "          293.2100, 290.4800, 282.7900, 283.5700, 286.1900, 284.2500, 287.6800,\n",
            "          292.4400, 292.5000, 286.6700, 281.6000, 284.9700, 286.2800]]])\n",
            "tensor([[[281.7456, 273.5963, 278.7331, 278.8096, 282.2597, 286.6181, 285.4128,\n",
            "          292.1212, 289.7113, 282.3922, 283.3175, 285.6273, 283.7879, 286.7819,\n",
            "          291.1854, 291.8793, 286.2807, 281.2715, 284.1281, 285.2990]]],\n",
            "       grad_fn=<ReluBackward0>)\n",
            "[285.29904]\n",
            "tensor([[[273.0400, 279.1000, 279.0800, 282.9700, 287.0500, 285.7300, 293.2100,\n",
            "          290.4800, 282.7900, 283.5700, 286.1900, 284.2500, 287.6800, 292.4400,\n",
            "          292.5000, 286.6700, 281.6000, 284.9700, 286.2800, 295.0000]]])\n",
            "tensor([[[273.5963, 278.7331, 278.8096, 282.2597, 286.6181, 285.4128, 292.1212,\n",
            "          289.7113, 282.3922, 283.3175, 285.6273, 283.7879, 286.7819, 291.1854,\n",
            "          291.8793, 286.2807, 281.2715, 284.1281, 285.2990, 293.9306]]],\n",
            "       grad_fn=<ReluBackward0>)\n",
            "[293.93057]\n",
            "tensor([[[279.1000, 279.0800, 282.9700, 287.0500, 285.7300, 293.2100, 290.4800,\n",
            "          282.7900, 283.5700, 286.1900, 284.2500, 287.6800, 292.4400, 292.5000,\n",
            "          286.6700, 281.6000, 284.9700, 286.2800, 295.0000, 291.9700]]])\n",
            "tensor([[[278.7331, 278.8096, 282.2597, 286.6181, 285.4128, 292.1212, 289.7113,\n",
            "          282.3558, 283.3175, 285.6273, 283.7879, 286.7819, 291.1854, 291.8793,\n",
            "          286.2807, 281.2715, 284.1281, 285.2990, 293.9306, 291.2496]]],\n",
            "       grad_fn=<ReluBackward0>)\n",
            "[291.2496]\n",
            "tensor([[[279.0800, 282.9700, 287.0500, 285.7300, 293.2100, 290.4800, 282.7900,\n",
            "          283.5700, 286.1900, 284.2500, 287.6800, 292.4400, 292.5000, 286.6700,\n",
            "          281.6000, 284.9700, 286.2800, 295.0000, 291.9700, 296.9300]]])\n",
            "tensor([[[278.8096, 282.2597, 286.6181, 285.4128, 292.1212, 289.7113, 282.3558,\n",
            "          283.2985, 285.6273, 283.7879, 286.7819, 291.1854, 291.8793, 286.2807,\n",
            "          281.2715, 284.1281, 285.2990, 293.9306, 291.2496, 295.6366]]],\n",
            "       grad_fn=<ReluBackward0>)\n",
            "[295.63657]\n",
            "tensor([[[282.9700, 287.0500, 285.7300, 293.2100, 290.4800, 282.7900, 283.5700,\n",
            "          286.1900, 284.2500, 287.6800, 292.4400, 292.5000, 286.6700, 281.6000,\n",
            "          284.9700, 286.2800, 295.0000, 291.9700, 296.9300, 294.8800]]])\n",
            "tensor([[[282.2597, 286.6181, 285.4128, 292.1212, 289.7113, 282.3558, 283.2985,\n",
            "          285.6273, 283.7879, 286.7819, 291.1854, 291.8793, 286.2807, 281.2715,\n",
            "          284.1281, 285.2990, 293.9306, 291.2496, 295.6366, 293.7438]]],\n",
            "       grad_fn=<ReluBackward0>)\n",
            "[293.7438]\n",
            "tensor([[[287.0500, 285.7300, 293.2100, 290.4800, 282.7900, 283.5700, 286.1900,\n",
            "          284.2500, 287.6800, 292.4400, 292.5000, 286.6700, 281.6000, 284.9700,\n",
            "          286.2800, 295.0000, 291.9700, 296.9300, 294.8800, 295.4400]]])\n",
            "tensor([[[286.6181, 285.4128, 292.1212, 289.7113, 282.3558, 283.2985, 285.6273,\n",
            "          283.7879, 286.7819, 291.1854, 291.8793, 286.2807, 281.2715, 284.1281,\n",
            "          285.2990, 293.9306, 291.2496, 295.6366, 293.7438, 294.0792]]],\n",
            "       grad_fn=<ReluBackward0>)\n",
            "[294.07922]\n",
            "tensor([[[285.7300, 293.2100, 290.4800, 282.7900, 283.5700, 286.1900, 284.2500,\n",
            "          287.6800, 292.4400, 292.5000, 286.6700, 281.6000, 284.9700, 286.2800,\n",
            "          295.0000, 291.9700, 296.9300, 294.8800, 295.4400, 299.0800]]])\n",
            "tensor([[[285.4128, 292.1212, 289.7113, 282.3558, 283.2985, 285.6273, 283.7879,\n",
            "          286.7819, 291.1854, 291.8793, 286.2807, 281.2715, 284.1281, 285.2990,\n",
            "          293.9306, 291.2496, 295.6366, 293.7438, 294.0792, 297.8483]]],\n",
            "       grad_fn=<ReluBackward0>)\n",
            "[297.84827]\n",
            "tensor([[[293.2100, 290.4800, 282.7900, 283.5700, 286.1900, 284.2500, 287.6800,\n",
            "          292.4400, 292.5000, 286.6700, 281.6000, 284.9700, 286.2800, 295.0000,\n",
            "          291.9700, 296.9300, 294.8800, 295.4400, 299.0800, 303.5300]]])\n",
            "tensor([[[292.1212, 289.7113, 282.3558, 283.2985, 285.6273, 283.7879, 286.7819,\n",
            "          291.1854, 291.8793, 286.2807, 281.2715, 284.1281, 285.2990, 293.9306,\n",
            "          291.2496, 295.6366, 293.7438, 294.0792, 297.8483, 301.9845]]],\n",
            "       grad_fn=<ReluBackward0>)\n",
            "[301.9845]\n",
            "tensor([[[290.4800, 282.7900, 283.5700, 286.1900, 284.2500, 287.6800, 292.4400,\n",
            "          292.5000, 286.6700, 281.6000, 284.9700, 286.2800, 295.0000, 291.9700,\n",
            "          296.9300, 294.8800, 295.4400, 299.0800, 303.5300, 302.9700]]])\n",
            "tensor([[[289.7113, 282.3558, 283.2985, 285.6273, 283.7879, 286.7819, 291.1854,\n",
            "          291.8793, 286.2807, 281.2715, 284.1281, 285.2990, 293.9306, 291.2496,\n",
            "          295.6366, 293.7438, 294.0792, 297.8483, 301.9845, 301.4725]]],\n",
            "       grad_fn=<ReluBackward0>)\n",
            "[301.47253]\n",
            "tensor([[[282.7900, 283.5700, 286.1900, 284.2500, 287.6800, 292.4400, 292.5000,\n",
            "          286.6700, 281.6000, 284.9700, 286.2800, 295.0000, 291.9700, 296.9300,\n",
            "          294.8800, 295.4400, 299.0800, 303.5300, 302.9700, 304.3200]]])\n",
            "tensor([[[282.3558, 283.2985, 285.6273, 283.7879, 286.7819, 291.1854, 291.8793,\n",
            "          286.2807, 281.2715, 284.1281, 285.2990, 293.9306, 291.2496, 295.6366,\n",
            "          293.7438, 294.0792, 297.8483, 301.9845, 301.4725, 302.5933]]],\n",
            "       grad_fn=<ReluBackward0>)\n",
            "[302.59326]\n",
            "tensor([[[283.5700, 286.1900, 284.2500, 287.6800, 292.4400, 292.5000, 286.6700,\n",
            "          281.6000, 284.9700, 286.2800, 295.0000, 291.9700, 296.9300, 294.8800,\n",
            "          295.4400, 299.0800, 303.5300, 302.9700, 304.3200, 305.5500]]])\n",
            "tensor([[[283.2985, 285.6273, 283.7879, 286.7819, 291.1854, 291.8793, 286.2807,\n",
            "          281.2274, 284.1281, 285.2990, 293.9306, 291.2496, 295.6366, 293.7438,\n",
            "          294.0792, 297.8483, 301.9845, 301.4725, 302.5933, 304.2623]]],\n",
            "       grad_fn=<ReluBackward0>)\n",
            "[304.26227]\n",
            "tensor([[[286.1900, 284.2500, 287.6800, 292.4400, 292.5000, 286.6700, 281.6000,\n",
            "          284.9700, 286.2800, 295.0000, 291.9700, 296.9300, 294.8800, 295.4400,\n",
            "          299.0800, 303.5300, 302.9700, 304.3200, 305.5500, 308.0800]]])\n",
            "tensor([[[285.6273, 283.7879, 286.7819, 291.1854, 291.8793, 286.2807, 281.2274,\n",
            "          284.0804, 285.2990, 293.9306, 291.2496, 295.6366, 293.7438, 294.0792,\n",
            "          297.8483, 301.9845, 301.4725, 302.5933, 304.2623, 306.5422]]],\n",
            "       grad_fn=<ReluBackward0>)\n",
            "[306.54218]\n",
            "tensor([[[284.2500, 287.6800, 292.4400, 292.5000, 286.6700, 281.6000, 284.9700,\n",
            "          286.2800, 295.0000, 291.9700, 296.9300, 294.8800, 295.4400, 299.0800,\n",
            "          303.5300, 302.9700, 304.3200, 305.5500, 308.0800, 312.1800]]])\n",
            "tensor([[[283.7879, 286.7819, 291.1854, 291.8793, 286.2807, 281.2274, 284.0804,\n",
            "          285.2990, 293.9306, 291.2496, 295.6366, 293.7438, 294.0792, 297.8483,\n",
            "          301.9845, 301.4725, 302.5933, 304.2623, 306.5422, 310.3186]]],\n",
            "       grad_fn=<ReluBackward0>)\n",
            "[310.31857]\n",
            "tensor([[[287.6800, 292.4400, 292.5000, 286.6700, 281.6000, 284.9700, 286.2800,\n",
            "          295.0000, 291.9700, 296.9300, 294.8800, 295.4400, 299.0800, 303.5300,\n",
            "          302.9700, 304.3200, 305.5500, 308.0800, 312.1800, 311.3600]]])\n",
            "tensor([[[286.7819, 291.1854, 291.8793, 286.2807, 281.2274, 284.0804, 285.2990,\n",
            "          293.9306, 291.2496, 295.6366, 293.7438, 294.0792, 297.8483, 301.9845,\n",
            "          301.4725, 302.5933, 304.2623, 306.5422, 310.3186, 309.5269]]],\n",
            "       grad_fn=<ReluBackward0>)\n",
            "[309.52692]\n",
            "tensor([[[292.4400, 292.5000, 286.6700, 281.6000, 284.9700, 286.2800, 295.0000,\n",
            "          291.9700, 296.9300, 294.8800, 295.4400, 299.0800, 303.5300, 302.9700,\n",
            "          304.3200, 305.5500, 308.0800, 312.1800, 311.3600, 319.3400]]])\n",
            "tensor([[[291.1854, 291.8793, 286.2807, 281.2274, 284.0804, 285.2990, 293.9306,\n",
            "          291.2496, 295.6366, 293.7438, 294.0792, 297.8483, 301.9845, 301.4725,\n",
            "          302.5933, 304.2623, 306.5422, 310.3186, 309.5269, 316.7875]]],\n",
            "       grad_fn=<ReluBackward0>)\n",
            "[316.78748]\n",
            "tensor([[[292.5000, 286.6700, 281.6000, 284.9700, 286.2800, 295.0000, 291.9700,\n",
            "          296.9300, 294.8800, 295.4400, 299.0800, 303.5300, 302.9700, 304.3200,\n",
            "          305.5500, 308.0800, 312.1800, 311.3600, 319.3400, 323.2000]]])\n",
            "tensor([[[291.8793, 286.2807, 281.2274, 284.0804, 285.2990, 293.9306, 291.2496,\n",
            "          295.6366, 293.7438, 294.0792, 297.8483, 301.9845, 301.4725, 302.5933,\n",
            "          304.2623, 306.5422, 310.3186, 309.5269, 316.7875, 321.0779]]],\n",
            "       grad_fn=<ReluBackward0>)\n",
            "[321.0779]\n"
          ],
          "name": "stdout"
        }
      ]
    },
    {
      "cell_type": "code",
      "metadata": {
        "colab": {
          "base_uri": "https://localhost:8080/",
          "height": 435
        },
        "id": "oJK_20erlrT3",
        "outputId": "3ad3955a-37d9-4215-8d43-de98402881ab"
      },
      "source": [
        "# last forecast_size sample, here these are the actual values of t+1,t+2... \n",
        "#assuming sliding window style\n",
        "y_pred_actual = forecast['close'].tail(X_fore.shape[0])\n",
        "\n",
        "plt.plot(y_pred_actual.index,y_pred_actual,label = 'Actual')\n",
        "plt.plot(y_pred_actual.index,forecasted,label = 'Predicted')\n",
        "plt.legend()\n",
        "print('Actual: ',y_pred_actual.to_numpy())\n",
        "print('Forecasted: ',forecasted )\n",
        "\n",
        "forecasted_loss = mean_squared_error(forecasted,y_pred_actual.to_numpy())\n",
        "print('MSE Loss for forecasted value(s): ', forecasted_loss)\n",
        "print('Loss on the Dollar: ', np.sum(y_pred_actual.to_numpy() - forecasted))"
      ],
      "execution_count": 16,
      "outputs": [
        {
          "output_type": "stream",
          "text": [
            "Actual:  [253.42 261.65 257.75 246.15 251.83 248.19 264.86 265.13 274.03 278.2\n",
            " 275.66 283.79 277.76 279.1  286.64 281.59 273.04 279.1  279.08 282.97\n",
            " 287.05 285.73 293.21 290.48 282.79 283.57 286.19 284.25 287.68 292.44\n",
            " 292.5  286.67 281.6  284.97 286.28 295.   291.97 296.93 294.88 295.44\n",
            " 299.08 303.53 302.97 304.32 305.55 308.08 312.18 311.36 319.34 323.2\n",
            " 320.79]\n",
            "Forecasted:  [261.28625, 254.69133, 263.78885, 259.1422, 248.57436, 252.90025, 249.72186, 265.16284, 265.93817, 273.92874, 277.93103, 276.1101, 283.31558, 277.94366, 278.84326, 285.6602, 281.7456, 273.638, 278.7331, 278.8096, 282.25974, 286.61807, 285.4128, 292.12115, 289.71133, 282.39224, 283.31747, 285.6273, 283.78793, 286.78192, 291.18536, 291.8793, 286.28073, 281.2715, 284.12808, 285.29904, 293.93057, 291.2496, 295.63657, 293.7438, 294.07922, 297.84827, 301.9845, 301.47253, 302.59326, 304.26227, 306.54218, 310.31857, 309.52692, 316.78748, 321.0779]\n",
            "MSE Loss for forecasted value(s):  31.659204277557887\n",
            "Loss on the Dollar:  82.97733947753918\n"
          ],
          "name": "stdout"
        },
        {
          "output_type": "display_data",
          "data": {
            "image/png": "[encoded data removed]",
            "text/plain": [
              "<Figure size 432x288 with 1 Axes>"
            ]
          },
          "metadata": {
            "tags": [],
            "needs_background": "light"
          }
        }
      ]
    },
    {
      "cell_type": "code",
      "metadata": {
        "id": "QUHaSG5ylziP"
      },
      "source": [
        ""
      ],
      "execution_count": null,
      "outputs": []
    }
  ]
}